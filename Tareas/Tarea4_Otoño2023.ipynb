{
  "nbformat": 4,
  "nbformat_minor": 0,
  "metadata": {
    "kernelspec": {
      "display_name": "Python 3",
      "language": "python",
      "name": "python3"
    },
    "language_info": {
      "codemirror_mode": {
        "name": "ipython",
        "version": 3
      },
      "file_extension": ".py",
      "mimetype": "text/x-python",
      "name": "python",
      "nbconvert_exporter": "python",
      "pygments_lexer": "ipython3",
      "version": "3.7.1"
    },
    "colab": {
      "provenance": []
    }
  },
  "cells": [
    {
      "cell_type": "markdown",
      "metadata": {
        "id": "aHlFnqz2F2nU"
      },
      "source": [
        "# CC3001 Otoño 2023 Tarea 4 - Marco Martínez 21.003.570-2\n",
        "# Generación de código\n",
        "\n",
        "Profesores: Iván Sipirán / Nelson Baloian / Patricio Poblete\n"
      ]
    },
    {
      "cell_type": "markdown",
      "metadata": {
        "id": "-t8wjUcsF2nV"
      },
      "source": [
        "El objetivo de esta tarea es aprender sobre la manipulación de árboles que representan fórmulas. Hay muchas cosas que uno puede hacer con estos árboles, y en esta tarea nos enfocaremos en particular en algo que los compiladores hacen: la **generación de código** para evaluar fórmulas.\n",
        "\n",
        "Específicamente, el problema es: dada una fórmula, generar una secuencia de instrucciones elementales que la evalúen. Por ejemplo, dada una fórmula como\n",
        "\n",
        "```\n",
        "(a+b)*(c-d)\n",
        "```\n",
        "\n",
        "se podría generar código como el siguiente:\n",
        "\n",
        "```\n",
        "t1=a+b\n",
        "t2=c-d\n",
        "t3=t1*t2\n",
        "```\n",
        "\n",
        "Las instrucciones elementales son siempre de la forma ``ti=x op y``, donde ``ti`` es una variable temporal, ``x`` e ``y`` pueden ser variables o números, y ``op`` es un operador. Uno va creando variables ``t1``, ``t2``, ... a medida que las necesita, y la última de ellas es la que almacena el valor final de la fórmula.\n",
        "\n",
        "Las fórmulas pueden ser arbitrariamente complicadas, como por ejemplo la fórmula\n",
        "\n",
        "$$\n",
        "(2-p\\,q)\\left( \\frac{1}{n}+\\frac{1}{p+q}\\right)\n",
        "$$\n",
        "\n",
        "la cual escribimos como\n",
        "\n",
        "```\n",
        "(2-p*q)*(1/n+1/(p+q))\n",
        "```\n",
        "\n",
        "y cuyo código generado podría ser,\n",
        "\n",
        "```\n",
        "t1=p*q\n",
        "t2=2-t1\n",
        "t3=1/n\n",
        "t4=p+q\n",
        "t5=1/t4\n",
        "t6=t3+t5\n",
        "t7=t2*t6\n",
        "```\n",
        "\n",
        "El objetivo de esta tarea es que usted implemente una función que, dado un árbol ya construído, lo recorra para generar una secuencia de instrucciones elementales que lo evalúe.\n",
        "\n",
        "A continuación usted encontrará clases ``Nodoi``, ``Nodoe`` y ``Arbol`` que implementan árboles que representan fórmulas. La clase ``Arbol`` viene con un constructor que recibe un string como parámetro, el cual contiene una fórmula, y este constructor se encarga de transformar la fórmula de string a árbol, de modo que usted no necesita preocuparse de eso. Para simplificar, la fórmula solo podrá contener variables de una sola letra, números de un solo dígito, y sin espacios. Los operadores permitidos son solo suma, resta, multiplicación y división. No hay operador menos unario.\n",
        "\n",
        "Usted tienen que implementar para la clase ``Arbol`` una función ``codigo`` que al ser invocado genere una secuencia de instrucciones elementales para evaluar la fórmula representada por ese árbol, y la retorne en forma de una lista (de Python)."
      ]
    },
    {
      "cell_type": "code",
      "source": [
        "# Ejecutar esto para poder visualizar los árboles\n",
        "\n",
        "!pip install aed-utilities"
      ],
      "metadata": {
        "colab": {
          "base_uri": "https://localhost:8080/"
        },
        "id": "iz1412X9zRQw",
        "outputId": "555dfbd0-c419-4f0a-b152-a58298ac7c3d"
      },
      "execution_count": null,
      "outputs": [
        {
          "output_type": "stream",
          "name": "stdout",
          "text": [
            "Looking in indexes: https://pypi.org/simple, https://us-python.pkg.dev/colab-wheels/public/simple/\n",
            "Collecting aed-utilities\n",
            "  Downloading aed_utilities-0.5.5.tar.gz (4.3 kB)\n",
            "  Preparing metadata (setup.py) ... \u001b[?25l\u001b[?25hdone\n",
            "Collecting validators (from aed-utilities)\n",
            "  Downloading validators-0.20.0.tar.gz (30 kB)\n",
            "  Preparing metadata (setup.py) ... \u001b[?25l\u001b[?25hdone\n",
            "Requirement already satisfied: beautifulsoup4 in /usr/local/lib/python3.10/dist-packages (from aed-utilities) (4.11.2)\n",
            "Requirement already satisfied: soupsieve>1.2 in /usr/local/lib/python3.10/dist-packages (from beautifulsoup4->aed-utilities) (2.4.1)\n",
            "Requirement already satisfied: decorator>=3.4.0 in /usr/local/lib/python3.10/dist-packages (from validators->aed-utilities) (4.4.2)\n",
            "Building wheels for collected packages: aed-utilities, validators\n",
            "  Building wheel for aed-utilities (setup.py) ... \u001b[?25l\u001b[?25hdone\n",
            "  Created wheel for aed-utilities: filename=aed_utilities-0.5.5-py3-none-any.whl size=4545 sha256=99103a26fb99074d916dbb8ab810a6c0dc15a67620018124646445ae497db882\n",
            "  Stored in directory: /root/.cache/pip/wheels/8d/2d/83/17dfcc243b9d622367c0fee80f8c55c5793e9c461630a761b3\n",
            "  Building wheel for validators (setup.py) ... \u001b[?25l\u001b[?25hdone\n",
            "  Created wheel for validators: filename=validators-0.20.0-py3-none-any.whl size=19579 sha256=fc2908c88c4bc696786116cbcd36bd190117fb1af6c20fed0ce57d1c9c10d387\n",
            "  Stored in directory: /root/.cache/pip/wheels/f2/ed/dd/d3a556ad245ef9dc570c6bcd2f22886d17b0b408dd3bbb9ac3\n",
            "Successfully built aed-utilities validators\n",
            "Installing collected packages: validators, aed-utilities\n",
            "Successfully installed aed-utilities-0.5.5 validators-0.20.0\n"
          ]
        }
      ]
    },
    {
      "cell_type": "code",
      "metadata": {
        "id": "G7vsv1WvF2nX"
      },
      "source": [
        "import aed_utilities as aed\n",
        "\n",
        "\n",
        "class Nodoi:\n",
        "    def __init__(self, izq, info, der):\n",
        "        self.izq=izq\n",
        "        self.info=info\n",
        "        self.der=der\n",
        "    def codigo(self):\n",
        "        global L\n",
        "        global contador_op\n",
        "        n_ins = (\"t\" + str(contador_op))\n",
        "        if self.info == '+':\n",
        "          instruccion = (n_ins + '=' + str(self.izq.codigo()) + '+' + str(self.der.codigo()))\n",
        "          L.append(instruccion)\n",
        "          contador_op += 1\n",
        "          return n_ins\n",
        "        elif self.info == '-':\n",
        "          instruccion = (n_ins + '=' + str(self.izq.codigo()) + '-' + str(self.der.codigo()))\n",
        "          L.append(instruccion)\n",
        "          contador_op += 1\n",
        "          return n_ins\n",
        "        elif self.info == '*':\n",
        "          instruccion = (n_ins + '=' + str(self.izq.codigo()) + '*' + str(self.der.codigo()))\n",
        "          L.append(instruccion)\n",
        "          contador_op += 1\n",
        "          return n_ins\n",
        "        elif self.info == '/':\n",
        "          instruccion = (n_ins + '=' + str(self.izq.codigo()) + '/' + str(self.der.codigo()))\n",
        "          L.append(instruccion)\n",
        "          contador_op += 1\n",
        "          return n_ins\n",
        "\n",
        "class Nodoe:\n",
        "    def __init__(self, info):\n",
        "        self.info=info\n",
        "    def codigo(self):\n",
        "        return self.info\n",
        "\n",
        "class Arbol:\n",
        "    def __init__(self,formula):\n",
        "        global k\n",
        "        global s\n",
        "        s=formula+\";\" # agregamos una marca de fin de la entrada\n",
        "        k=0 # indica próximo caracter por procesar\n",
        "        # definimos funciones para analizar la fórmula\n",
        "        def expresion(): # retorna puntero a la raíz de un árbol que representa a la fórmula s\n",
        "            global k\n",
        "            global s\n",
        "            a=factor()\n",
        "            while s[k]==\"+\" or s[k]==\"-\":\n",
        "                op=s[k]\n",
        "                k+=1\n",
        "                b=factor()\n",
        "                a=Nodoi(a,op,b)\n",
        "            return a\n",
        "        def factor():\n",
        "            global k\n",
        "            global s\n",
        "            a=termino()\n",
        "            while s[k]==\"*\" or s[k]==\"/\":\n",
        "                op=s[k]\n",
        "                k+=1\n",
        "                b=termino()\n",
        "                a=Nodoi(a,op,b)\n",
        "            return a\n",
        "        def termino(): # posible constante, variable o formula parentizada\n",
        "            global k\n",
        "            global s\n",
        "            if s[k].isalpha() or s[k].isdigit():\n",
        "                a=Nodoe(s[k])\n",
        "                k+=1\n",
        "                return a\n",
        "            if s[k]==\"(\": # fórmula parentizada\n",
        "                k+=1\n",
        "                a=expresion()\n",
        "                if s[k]!=\")\":\n",
        "                    print(\"Error: Falta cierra paréntesis: \"+formula[k:])\n",
        "                    assert False\n",
        "                k+=1\n",
        "                return a\n",
        "            print(\"Error: Falta variable, número o abre paréntesis: \"+formula[k:])\n",
        "            assert False\n",
        "\n",
        "        a=expresion()\n",
        "        if s[k]!=\";\":\n",
        "            print(\"Error: Basura al final de la fórmula: \"+formula[k:])\n",
        "            assert False\n",
        "        self.raiz=a\n",
        "\n",
        "    def codigo(self):\n",
        "      global L\n",
        "      global contador_op\n",
        "      L = []\n",
        "      contador_op = 1\n",
        "      operadores = \"+-/*\"\n",
        "      if self.raiz.info not in operadores:\n",
        "        valor = str(self.raiz.info)\n",
        "        L =[\"t1=\" + valor]\n",
        "        return L\n",
        "      else:\n",
        "        self.raiz.codigo()\n",
        "        return L\n",
        "\n",
        "\n",
        "    def dibujar(self):\n",
        "      btd = aed.BinaryTreeDrawer(fieldData=\"info\", fieldLeft=\"izq\", fieldRight=\"der\", classNone=Nodoe)\n",
        "      btd.draw_tree(self, \"raiz\")"
      ],
      "execution_count": null,
      "outputs": []
    },
    {
      "cell_type": "markdown",
      "metadata": {
        "id": "PibRJ0ZFF2nb"
      },
      "source": [
        "A continuación probamos esta funcionalidad con varias fórmulas de ejemplo. Para ver si el árbol fue construido correctamente, lo dibujamos."
      ]
    },
    {
      "cell_type": "code",
      "metadata": {
        "id": "7_7E3OWuF2nd",
        "outputId": "f3223053-2b52-4d5c-f990-a9ec8639c6dd",
        "colab": {
          "base_uri": "https://localhost:8080/",
          "height": 195
        }
      },
      "source": [
        "Arbol(\"a*b*c\").dibujar()"
      ],
      "execution_count": null,
      "outputs": [
        {
          "output_type": "display_data",
          "data": {
            "text/plain": [
              "<IPython.core.display.SVG object>"
            ],
            "image/svg+xml": "<svg xmlns=\"http://www.w3.org/2000/svg\" xmlns:xlink=\"http://www.w3.org/1999/xlink\" width=\"178pt\" height=\"130pt\" viewBox=\"0.00 0.00 178.40 130.40\">\n<g id=\"graph0\" class=\"graph\" transform=\"scale(1 1) rotate(0) translate(4 126.4)\">\n<title>Arbol</title>\n<polygon fill=\"white\" stroke=\"transparent\" points=\"-4,4 -4,-126.4 174.4,-126.4 174.4,4 -4,4\"/>\n<!-- node0 -->\n<g id=\"node1\" class=\"node\">\n<title>node0</title>\n<polygon fill=\"none\" stroke=\"black\" points=\"36,-36 0,-36 0,0 36,0 36,-36\"/>\n<text text-anchor=\"middle\" x=\"18\" y=\"-14.3\" font-family=\"Times,serif\" font-size=\"14.00\">a</text>\n</g>\n<!-- node2 -->\n<g id=\"node2\" class=\"node\">\n<title>node2</title>\n<ellipse fill=\"none\" stroke=\"black\" cx=\"51.6\" cy=\"-61.2\" rx=\"18\" ry=\"18\"/>\n<text text-anchor=\"middle\" x=\"51.6\" y=\"-57.5\" font-family=\"Times,serif\" font-size=\"14.00\">*</text>\n</g>\n<!-- node2&#45;&#45;node0 -->\n<g id=\"edge2\" class=\"edge\">\n<title>node2--node0</title>\n<path fill=\"none\" stroke=\"black\" d=\"M40.22,-46.57C37.64,-43.25 34.85,-39.67 32.16,-36.21\"/>\n</g>\n<!-- node1 -->\n<g id=\"node3\" class=\"node\">\n<title>node1</title>\n<polygon fill=\"none\" stroke=\"black\" points=\"103.2,-36 67.2,-36 67.2,0 103.2,0 103.2,-36\"/>\n<text text-anchor=\"middle\" x=\"85.2\" y=\"-14.3\" font-family=\"Times,serif\" font-size=\"14.00\">b</text>\n</g>\n<!-- node2&#45;&#45;node1 -->\n<g id=\"edge3\" class=\"edge\">\n<title>node2--node1</title>\n<path fill=\"none\" stroke=\"black\" d=\"M62.98,-46.57C65.56,-43.25 68.35,-39.67 71.04,-36.21\"/>\n</g>\n<!-- node4 -->\n<g id=\"node4\" class=\"node\">\n<title>node4</title>\n<ellipse fill=\"none\" stroke=\"black\" cx=\"118.8\" cy=\"-104.4\" rx=\"18\" ry=\"18\"/>\n<text text-anchor=\"middle\" x=\"118.8\" y=\"-100.7\" font-family=\"Times,serif\" font-size=\"14.00\">*</text>\n</g>\n<!-- node4&#45;&#45;node2 -->\n<g id=\"edge1\" class=\"edge\">\n<title>node4--node2</title>\n<path fill=\"none\" stroke=\"black\" d=\"M103.55,-94.6C92.55,-87.53 77.77,-78.02 66.79,-70.96\"/>\n</g>\n<!-- node3 -->\n<g id=\"node5\" class=\"node\">\n<title>node3</title>\n<polygon fill=\"none\" stroke=\"black\" points=\"170.4,-79.2 134.4,-79.2 134.4,-43.2 170.4,-43.2 170.4,-79.2\"/>\n<text text-anchor=\"middle\" x=\"152.4\" y=\"-57.5\" font-family=\"Times,serif\" font-size=\"14.00\">c</text>\n</g>\n<!-- node4&#45;&#45;node3 -->\n<g id=\"edge4\" class=\"edge\">\n<title>node4--node3</title>\n<path fill=\"none\" stroke=\"black\" d=\"M130.18,-89.77C132.76,-86.45 135.55,-82.87 138.24,-79.41\"/>\n</g>\n</g>\n</svg>"
          },
          "metadata": {}
        }
      ]
    },
    {
      "cell_type": "code",
      "metadata": {
        "id": "mVMg8ye2F2nj",
        "outputId": "f913ab18-564e-424f-a6ff-ba23cd9c5209",
        "colab": {
          "base_uri": "https://localhost:8080/",
          "height": 195
        }
      },
      "source": [
        "Arbol(\"(a+b)*(c-d)\").dibujar()"
      ],
      "execution_count": null,
      "outputs": [
        {
          "output_type": "display_data",
          "data": {
            "text/plain": [
              "<IPython.core.display.SVG object>"
            ],
            "image/svg+xml": "<svg xmlns=\"http://www.w3.org/2000/svg\" xmlns:xlink=\"http://www.w3.org/1999/xlink\" width=\"246pt\" height=\"130pt\" viewBox=\"0.00 0.00 245.60 130.40\">\n<g id=\"graph0\" class=\"graph\" transform=\"scale(1 1) rotate(0) translate(4 126.4)\">\n<title>Arbol</title>\n<polygon fill=\"white\" stroke=\"transparent\" points=\"-4,4 -4,-126.4 241.6,-126.4 241.6,4 -4,4\"/>\n<!-- node0 -->\n<g id=\"node1\" class=\"node\">\n<title>node0</title>\n<polygon fill=\"none\" stroke=\"black\" points=\"36,-36 0,-36 0,0 36,0 36,-36\"/>\n<text text-anchor=\"middle\" x=\"18\" y=\"-14.3\" font-family=\"Times,serif\" font-size=\"14.00\">a</text>\n</g>\n<!-- node2 -->\n<g id=\"node2\" class=\"node\">\n<title>node2</title>\n<ellipse fill=\"none\" stroke=\"black\" cx=\"51.6\" cy=\"-61.2\" rx=\"18\" ry=\"18\"/>\n<text text-anchor=\"middle\" x=\"51.6\" y=\"-57.5\" font-family=\"Times,serif\" font-size=\"14.00\">+</text>\n</g>\n<!-- node2&#45;&#45;node0 -->\n<g id=\"edge2\" class=\"edge\">\n<title>node2--node0</title>\n<path fill=\"none\" stroke=\"black\" d=\"M40.22,-46.57C37.64,-43.25 34.85,-39.67 32.16,-36.21\"/>\n</g>\n<!-- node1 -->\n<g id=\"node3\" class=\"node\">\n<title>node1</title>\n<polygon fill=\"none\" stroke=\"black\" points=\"103.2,-36 67.2,-36 67.2,0 103.2,0 103.2,-36\"/>\n<text text-anchor=\"middle\" x=\"85.2\" y=\"-14.3\" font-family=\"Times,serif\" font-size=\"14.00\">b</text>\n</g>\n<!-- node2&#45;&#45;node1 -->\n<g id=\"edge3\" class=\"edge\">\n<title>node2--node1</title>\n<path fill=\"none\" stroke=\"black\" d=\"M62.98,-46.57C65.56,-43.25 68.35,-39.67 71.04,-36.21\"/>\n</g>\n<!-- node6 -->\n<g id=\"node4\" class=\"node\">\n<title>node6</title>\n<ellipse fill=\"none\" stroke=\"black\" cx=\"118.8\" cy=\"-104.4\" rx=\"18\" ry=\"18\"/>\n<text text-anchor=\"middle\" x=\"118.8\" y=\"-100.7\" font-family=\"Times,serif\" font-size=\"14.00\">*</text>\n</g>\n<!-- node6&#45;&#45;node2 -->\n<g id=\"edge1\" class=\"edge\">\n<title>node6--node2</title>\n<path fill=\"none\" stroke=\"black\" d=\"M103.55,-94.6C92.55,-87.53 77.77,-78.02 66.79,-70.96\"/>\n</g>\n<!-- node5 -->\n<g id=\"node6\" class=\"node\">\n<title>node5</title>\n<ellipse fill=\"none\" stroke=\"black\" cx=\"186\" cy=\"-61.2\" rx=\"18\" ry=\"18\"/>\n<text text-anchor=\"middle\" x=\"186\" y=\"-57.5\" font-family=\"Times,serif\" font-size=\"14.00\">-</text>\n</g>\n<!-- node6&#45;&#45;node5 -->\n<g id=\"edge4\" class=\"edge\">\n<title>node6--node5</title>\n<path fill=\"none\" stroke=\"black\" d=\"M134.05,-94.6C145.05,-87.53 159.83,-78.02 170.81,-70.96\"/>\n</g>\n<!-- node3 -->\n<g id=\"node5\" class=\"node\">\n<title>node3</title>\n<polygon fill=\"none\" stroke=\"black\" points=\"170.4,-36 134.4,-36 134.4,0 170.4,0 170.4,-36\"/>\n<text text-anchor=\"middle\" x=\"152.4\" y=\"-14.3\" font-family=\"Times,serif\" font-size=\"14.00\">c</text>\n</g>\n<!-- node5&#45;&#45;node3 -->\n<g id=\"edge5\" class=\"edge\">\n<title>node5--node3</title>\n<path fill=\"none\" stroke=\"black\" d=\"M174.62,-46.57C172.04,-43.25 169.25,-39.67 166.56,-36.21\"/>\n</g>\n<!-- node4 -->\n<g id=\"node7\" class=\"node\">\n<title>node4</title>\n<polygon fill=\"none\" stroke=\"black\" points=\"237.6,-36 201.6,-36 201.6,0 237.6,0 237.6,-36\"/>\n<text text-anchor=\"middle\" x=\"219.6\" y=\"-14.3\" font-family=\"Times,serif\" font-size=\"14.00\">d</text>\n</g>\n<!-- node5&#45;&#45;node4 -->\n<g id=\"edge6\" class=\"edge\">\n<title>node5--node4</title>\n<path fill=\"none\" stroke=\"black\" d=\"M197.38,-46.57C199.96,-43.25 202.75,-39.67 205.44,-36.21\"/>\n</g>\n</g>\n</svg>"
          },
          "metadata": {}
        }
      ]
    },
    {
      "cell_type": "code",
      "metadata": {
        "id": "F4DP46cFF2nn",
        "outputId": "4a195482-fa1a-4b78-8bda-bb9e30055648",
        "colab": {
          "base_uri": "https://localhost:8080/",
          "height": 311
        }
      },
      "source": [
        "Arbol(\"(2-p*q)*(1/n+1/(p+q))\").dibujar()"
      ],
      "execution_count": null,
      "outputs": [
        {
          "output_type": "display_data",
          "data": {
            "text/plain": [
              "<IPython.core.display.SVG object>"
            ],
            "image/svg+xml": "<svg xmlns=\"http://www.w3.org/2000/svg\" xmlns:xlink=\"http://www.w3.org/1999/xlink\" width=\"514pt\" height=\"217pt\" viewBox=\"0.00 0.00 514.40 216.80\">\n<g id=\"graph0\" class=\"graph\" transform=\"scale(1 1) rotate(0) translate(4 212.8)\">\n<title>Arbol</title>\n<polygon fill=\"white\" stroke=\"transparent\" points=\"-4,4 -4,-212.8 510.4,-212.8 510.4,4 -4,4\"/>\n<!-- node0 -->\n<g id=\"node1\" class=\"node\">\n<title>node0</title>\n<polygon fill=\"none\" stroke=\"black\" points=\"36,-122.4 0,-122.4 0,-86.4 36,-86.4 36,-122.4\"/>\n<text text-anchor=\"middle\" x=\"18\" y=\"-100.7\" font-family=\"Times,serif\" font-size=\"14.00\">2</text>\n</g>\n<!-- node4 -->\n<g id=\"node2\" class=\"node\">\n<title>node4</title>\n<ellipse fill=\"none\" stroke=\"black\" cx=\"51.6\" cy=\"-147.6\" rx=\"18\" ry=\"18\"/>\n<text text-anchor=\"middle\" x=\"51.6\" y=\"-143.9\" font-family=\"Times,serif\" font-size=\"14.00\">-</text>\n</g>\n<!-- node4&#45;&#45;node0 -->\n<g id=\"edge2\" class=\"edge\">\n<title>node4--node0</title>\n<path fill=\"none\" stroke=\"black\" d=\"M40.22,-132.97C37.64,-129.65 34.85,-126.07 32.16,-122.61\"/>\n</g>\n<!-- node3 -->\n<g id=\"node4\" class=\"node\">\n<title>node3</title>\n<ellipse fill=\"none\" stroke=\"black\" cx=\"118.8\" cy=\"-104.4\" rx=\"18\" ry=\"18\"/>\n<text text-anchor=\"middle\" x=\"118.8\" y=\"-100.7\" font-family=\"Times,serif\" font-size=\"14.00\">*</text>\n</g>\n<!-- node4&#45;&#45;node3 -->\n<g id=\"edge3\" class=\"edge\">\n<title>node4--node3</title>\n<path fill=\"none\" stroke=\"black\" d=\"M66.85,-137.8C77.85,-130.73 92.63,-121.22 103.61,-114.16\"/>\n</g>\n<!-- node1 -->\n<g id=\"node3\" class=\"node\">\n<title>node1</title>\n<polygon fill=\"none\" stroke=\"black\" points=\"103.2,-79.2 67.2,-79.2 67.2,-43.2 103.2,-43.2 103.2,-79.2\"/>\n<text text-anchor=\"middle\" x=\"85.2\" y=\"-57.5\" font-family=\"Times,serif\" font-size=\"14.00\">p</text>\n</g>\n<!-- node3&#45;&#45;node1 -->\n<g id=\"edge4\" class=\"edge\">\n<title>node3--node1</title>\n<path fill=\"none\" stroke=\"black\" d=\"M107.42,-89.77C104.84,-86.45 102.05,-82.87 99.36,-79.41\"/>\n</g>\n<!-- node2 -->\n<g id=\"node5\" class=\"node\">\n<title>node2</title>\n<polygon fill=\"none\" stroke=\"black\" points=\"170.4,-79.2 134.4,-79.2 134.4,-43.2 170.4,-43.2 170.4,-79.2\"/>\n<text text-anchor=\"middle\" x=\"152.4\" y=\"-57.5\" font-family=\"Times,serif\" font-size=\"14.00\">q</text>\n</g>\n<!-- node3&#45;&#45;node2 -->\n<g id=\"edge5\" class=\"edge\">\n<title>node3--node2</title>\n<path fill=\"none\" stroke=\"black\" d=\"M130.18,-89.77C132.76,-86.45 135.55,-82.87 138.24,-79.41\"/>\n</g>\n<!-- node14 -->\n<g id=\"node6\" class=\"node\">\n<title>node14</title>\n<ellipse fill=\"none\" stroke=\"black\" cx=\"186\" cy=\"-190.8\" rx=\"18\" ry=\"18\"/>\n<text text-anchor=\"middle\" x=\"186\" y=\"-187.1\" font-family=\"Times,serif\" font-size=\"14.00\">*</text>\n</g>\n<!-- node14&#45;&#45;node4 -->\n<g id=\"edge1\" class=\"edge\">\n<title>node14--node4</title>\n<path fill=\"none\" stroke=\"black\" d=\"M168.7,-185.24C142.9,-176.95 94.6,-161.42 68.83,-153.14\"/>\n</g>\n<!-- node13 -->\n<g id=\"node10\" class=\"node\">\n<title>node13</title>\n<ellipse fill=\"none\" stroke=\"black\" cx=\"320.4\" cy=\"-147.6\" rx=\"18\" ry=\"18\"/>\n<text text-anchor=\"middle\" x=\"320.4\" y=\"-143.9\" font-family=\"Times,serif\" font-size=\"14.00\">+</text>\n</g>\n<!-- node14&#45;&#45;node13 -->\n<g id=\"edge6\" class=\"edge\">\n<title>node14--node13</title>\n<path fill=\"none\" stroke=\"black\" d=\"M203.3,-185.24C229.1,-176.95 277.4,-161.42 303.17,-153.14\"/>\n</g>\n<!-- node5 -->\n<g id=\"node7\" class=\"node\">\n<title>node5</title>\n<polygon fill=\"none\" stroke=\"black\" points=\"237.6,-79.2 201.6,-79.2 201.6,-43.2 237.6,-43.2 237.6,-79.2\"/>\n<text text-anchor=\"middle\" x=\"219.6\" y=\"-57.5\" font-family=\"Times,serif\" font-size=\"14.00\">1</text>\n</g>\n<!-- node7 -->\n<g id=\"node8\" class=\"node\">\n<title>node7</title>\n<ellipse fill=\"none\" stroke=\"black\" cx=\"253.2\" cy=\"-104.4\" rx=\"18\" ry=\"18\"/>\n<text text-anchor=\"middle\" x=\"253.2\" y=\"-100.7\" font-family=\"Times,serif\" font-size=\"14.00\">/</text>\n</g>\n<!-- node7&#45;&#45;node5 -->\n<g id=\"edge8\" class=\"edge\">\n<title>node7--node5</title>\n<path fill=\"none\" stroke=\"black\" d=\"M241.82,-89.77C239.24,-86.45 236.45,-82.87 233.76,-79.41\"/>\n</g>\n<!-- node6 -->\n<g id=\"node9\" class=\"node\">\n<title>node6</title>\n<polygon fill=\"none\" stroke=\"black\" points=\"304.8,-79.2 268.8,-79.2 268.8,-43.2 304.8,-43.2 304.8,-79.2\"/>\n<text text-anchor=\"middle\" x=\"286.8\" y=\"-57.5\" font-family=\"Times,serif\" font-size=\"14.00\">n</text>\n</g>\n<!-- node7&#45;&#45;node6 -->\n<g id=\"edge9\" class=\"edge\">\n<title>node7--node6</title>\n<path fill=\"none\" stroke=\"black\" d=\"M264.58,-89.77C267.16,-86.45 269.95,-82.87 272.64,-79.41\"/>\n</g>\n<!-- node13&#45;&#45;node7 -->\n<g id=\"edge7\" class=\"edge\">\n<title>node13--node7</title>\n<path fill=\"none\" stroke=\"black\" d=\"M305.15,-137.8C294.15,-130.73 279.37,-121.22 268.39,-114.16\"/>\n</g>\n<!-- node12 -->\n<g id=\"node12\" class=\"node\">\n<title>node12</title>\n<ellipse fill=\"none\" stroke=\"black\" cx=\"387.6\" cy=\"-104.4\" rx=\"18\" ry=\"18\"/>\n<text text-anchor=\"middle\" x=\"387.6\" y=\"-100.7\" font-family=\"Times,serif\" font-size=\"14.00\">/</text>\n</g>\n<!-- node13&#45;&#45;node12 -->\n<g id=\"edge10\" class=\"edge\">\n<title>node13--node12</title>\n<path fill=\"none\" stroke=\"black\" d=\"M335.65,-137.8C346.65,-130.73 361.43,-121.22 372.41,-114.16\"/>\n</g>\n<!-- node8 -->\n<g id=\"node11\" class=\"node\">\n<title>node8</title>\n<polygon fill=\"none\" stroke=\"black\" points=\"372,-79.2 336,-79.2 336,-43.2 372,-43.2 372,-79.2\"/>\n<text text-anchor=\"middle\" x=\"354\" y=\"-57.5\" font-family=\"Times,serif\" font-size=\"14.00\">1</text>\n</g>\n<!-- node12&#45;&#45;node8 -->\n<g id=\"edge11\" class=\"edge\">\n<title>node12--node8</title>\n<path fill=\"none\" stroke=\"black\" d=\"M376.22,-89.77C373.64,-86.45 370.85,-82.87 368.16,-79.41\"/>\n</g>\n<!-- node11 -->\n<g id=\"node14\" class=\"node\">\n<title>node11</title>\n<ellipse fill=\"none\" stroke=\"black\" cx=\"454.8\" cy=\"-61.2\" rx=\"18\" ry=\"18\"/>\n<text text-anchor=\"middle\" x=\"454.8\" y=\"-57.5\" font-family=\"Times,serif\" font-size=\"14.00\">+</text>\n</g>\n<!-- node12&#45;&#45;node11 -->\n<g id=\"edge12\" class=\"edge\">\n<title>node12--node11</title>\n<path fill=\"none\" stroke=\"black\" d=\"M402.85,-94.6C413.85,-87.53 428.63,-78.02 439.61,-70.96\"/>\n</g>\n<!-- node9 -->\n<g id=\"node13\" class=\"node\">\n<title>node9</title>\n<polygon fill=\"none\" stroke=\"black\" points=\"439.2,-36 403.2,-36 403.2,0 439.2,0 439.2,-36\"/>\n<text text-anchor=\"middle\" x=\"421.2\" y=\"-14.3\" font-family=\"Times,serif\" font-size=\"14.00\">p</text>\n</g>\n<!-- node11&#45;&#45;node9 -->\n<g id=\"edge13\" class=\"edge\">\n<title>node11--node9</title>\n<path fill=\"none\" stroke=\"black\" d=\"M443.42,-46.57C440.84,-43.25 438.05,-39.67 435.36,-36.21\"/>\n</g>\n<!-- node10 -->\n<g id=\"node15\" class=\"node\">\n<title>node10</title>\n<polygon fill=\"none\" stroke=\"black\" points=\"506.4,-36 470.4,-36 470.4,0 506.4,0 506.4,-36\"/>\n<text text-anchor=\"middle\" x=\"488.4\" y=\"-14.3\" font-family=\"Times,serif\" font-size=\"14.00\">q</text>\n</g>\n<!-- node11&#45;&#45;node10 -->\n<g id=\"edge14\" class=\"edge\">\n<title>node11--node10</title>\n<path fill=\"none\" stroke=\"black\" d=\"M466.18,-46.57C468.76,-43.25 471.55,-39.67 474.24,-36.21\"/>\n</g>\n</g>\n</svg>"
          },
          "metadata": {}
        }
      ]
    },
    {
      "cell_type": "markdown",
      "metadata": {
        "id": "UzH5VKIFF2ns"
      },
      "source": [
        "## Resultados"
      ]
    },
    {
      "cell_type": "markdown",
      "metadata": {
        "id": "_dKOs-tLF2ns"
      },
      "source": [
        "En esta sección probamos la generación de código que usted tiene que escribir. Mientras usted no sustituya la función ``codigo`` provisoria que viene en la definición de la clase, va a aparecer la lista que generamos ahí. Primero vamos a definir una función ``probar`` que genera el código a partir de una fórmula dada e imprime el resultado:"
      ]
    },
    {
      "cell_type": "code",
      "metadata": {
        "id": "nN9p3gO-F2nt"
      },
      "source": [
        "def probar(formula):\n",
        "    a=Arbol(formula)\n",
        "    for x in a.codigo():\n",
        "        print(x)"
      ],
      "execution_count": null,
      "outputs": []
    },
    {
      "cell_type": "markdown",
      "metadata": {
        "id": "puLezujdF2nx"
      },
      "source": [
        "A continuación probamos con varias fórmulas. Además de las fórmulas dadaas, usted tiene que agregar tres ejemplos adicionales."
      ]
    },
    {
      "cell_type": "code",
      "metadata": {
        "id": "f9hCpaCgF2ny",
        "outputId": "1fb52ab1-3fb1-4ef3-82af-05d41c72e120",
        "colab": {
          "base_uri": "https://localhost:8080/"
        }
      },
      "source": [
        "probar(\"a+1\")"
      ],
      "execution_count": null,
      "outputs": [
        {
          "output_type": "stream",
          "name": "stdout",
          "text": [
            "t1=a+1\n"
          ]
        }
      ]
    },
    {
      "cell_type": "code",
      "metadata": {
        "id": "vX6V_XTrF2n7",
        "outputId": "f5db944e-3d93-4f5b-e6b8-c976ae74b045",
        "colab": {
          "base_uri": "https://localhost:8080/"
        }
      },
      "source": [
        "probar(\"(a+b)*(c-d)\")"
      ],
      "execution_count": null,
      "outputs": [
        {
          "output_type": "stream",
          "name": "stdout",
          "text": [
            "t1=a+b\n",
            "t2=c-d\n",
            "t1=t1*t2\n"
          ]
        }
      ]
    },
    {
      "cell_type": "code",
      "metadata": {
        "id": "taeKmQj1F2n_",
        "outputId": "fc4671fb-a478-4ba1-f921-bda4f8c90dfb",
        "colab": {
          "base_uri": "https://localhost:8080/"
        }
      },
      "source": [
        "probar(\"(2-p*q)*(1/n+1/(p+q))\")"
      ],
      "execution_count": null,
      "outputs": [
        {
          "output_type": "stream",
          "name": "stdout",
          "text": [
            "t1=p*q\n",
            "t1=2-t1\n",
            "t3=1/n\n",
            "t4=p+q\n",
            "t4=1/t4\n",
            "t3=t3+t4\n",
            "t1=t1*t3\n"
          ]
        }
      ]
    },
    {
      "cell_type": "code",
      "metadata": {
        "id": "KOs7ocpkF2oD",
        "outputId": "e64c52f0-e0f3-4d20-b3fa-ef6eaad88c95",
        "colab": {
          "base_uri": "https://localhost:8080/"
        }
      },
      "source": [
        "probar(\"((((a+b)+c)+d)+e)\")"
      ],
      "execution_count": null,
      "outputs": [
        {
          "output_type": "stream",
          "name": "stdout",
          "text": [
            "t1=a+b\n",
            "t1=t1+c\n",
            "t1=t1+d\n",
            "t1=t1+e\n"
          ]
        }
      ]
    },
    {
      "cell_type": "code",
      "metadata": {
        "id": "XzR_Y6o_F2oI",
        "outputId": "4fad2db6-93fd-4b08-ace4-9c511a6f67ae",
        "colab": {
          "base_uri": "https://localhost:8080/"
        }
      },
      "source": [
        "probar(\"(a+(b+(c+(d+e))))\")"
      ],
      "execution_count": null,
      "outputs": [
        {
          "output_type": "stream",
          "name": "stdout",
          "text": [
            "t1=d+e\n",
            "t1=c+t1\n",
            "t1=b+t1\n",
            "t1=a+t1\n"
          ]
        }
      ]
    },
    {
      "cell_type": "code",
      "metadata": {
        "id": "R62vPzgAF2oL",
        "outputId": "cdffe468-995f-4140-fc4f-c50765b1c266",
        "colab": {
          "base_uri": "https://localhost:8080/"
        }
      },
      "source": [
        "probar(\"a\")"
      ],
      "execution_count": null,
      "outputs": [
        {
          "output_type": "stream",
          "name": "stdout",
          "text": [
            "t1=a\n"
          ]
        }
      ]
    },
    {
      "cell_type": "markdown",
      "source": [
        "# Mis ejemplos:"
      ],
      "metadata": {
        "id": "8O9rbjCiM6gn"
      }
    },
    {
      "cell_type": "code",
      "source": [
        "Arbol(\"(a*b-(c+d))/(a*d)\").dibujar()"
      ],
      "metadata": {
        "colab": {
          "base_uri": "https://localhost:8080/",
          "height": 253
        },
        "id": "z5KQZKO1OBSI",
        "outputId": "890caaab-d6de-48b5-ddd9-7500354c2d9c"
      },
      "execution_count": null,
      "outputs": [
        {
          "output_type": "display_data",
          "data": {
            "text/plain": [
              "<IPython.core.display.SVG object>"
            ],
            "image/svg+xml": "<svg xmlns=\"http://www.w3.org/2000/svg\" xmlns:xlink=\"http://www.w3.org/1999/xlink\" width=\"380pt\" height=\"174pt\" viewBox=\"0.00 0.00 380.00 173.60\">\n<g id=\"graph0\" class=\"graph\" transform=\"scale(1 1) rotate(0) translate(4 169.6)\">\n<title>Arbol</title>\n<polygon fill=\"white\" stroke=\"transparent\" points=\"-4,4 -4,-169.6 376,-169.6 376,4 -4,4\"/>\n<!-- node0 -->\n<g id=\"node1\" class=\"node\">\n<title>node0</title>\n<polygon fill=\"none\" stroke=\"black\" points=\"36,-36 0,-36 0,0 36,0 36,-36\"/>\n<text text-anchor=\"middle\" x=\"18\" y=\"-14.3\" font-family=\"Times,serif\" font-size=\"14.00\">a</text>\n</g>\n<!-- node2 -->\n<g id=\"node2\" class=\"node\">\n<title>node2</title>\n<ellipse fill=\"none\" stroke=\"black\" cx=\"51.6\" cy=\"-61.2\" rx=\"18\" ry=\"18\"/>\n<text text-anchor=\"middle\" x=\"51.6\" y=\"-57.5\" font-family=\"Times,serif\" font-size=\"14.00\">*</text>\n</g>\n<!-- node2&#45;&#45;node0 -->\n<g id=\"edge3\" class=\"edge\">\n<title>node2--node0</title>\n<path fill=\"none\" stroke=\"black\" d=\"M40.22,-46.57C37.64,-43.25 34.85,-39.67 32.16,-36.21\"/>\n</g>\n<!-- node1 -->\n<g id=\"node3\" class=\"node\">\n<title>node1</title>\n<polygon fill=\"none\" stroke=\"black\" points=\"103.2,-36 67.2,-36 67.2,0 103.2,0 103.2,-36\"/>\n<text text-anchor=\"middle\" x=\"85.2\" y=\"-14.3\" font-family=\"Times,serif\" font-size=\"14.00\">b</text>\n</g>\n<!-- node2&#45;&#45;node1 -->\n<g id=\"edge4\" class=\"edge\">\n<title>node2--node1</title>\n<path fill=\"none\" stroke=\"black\" d=\"M62.98,-46.57C65.56,-43.25 68.35,-39.67 71.04,-36.21\"/>\n</g>\n<!-- node6 -->\n<g id=\"node4\" class=\"node\">\n<title>node6</title>\n<ellipse fill=\"none\" stroke=\"black\" cx=\"118.8\" cy=\"-104.4\" rx=\"18\" ry=\"18\"/>\n<text text-anchor=\"middle\" x=\"118.8\" y=\"-100.7\" font-family=\"Times,serif\" font-size=\"14.00\">-</text>\n</g>\n<!-- node6&#45;&#45;node2 -->\n<g id=\"edge2\" class=\"edge\">\n<title>node6--node2</title>\n<path fill=\"none\" stroke=\"black\" d=\"M103.55,-94.6C92.55,-87.53 77.77,-78.02 66.79,-70.96\"/>\n</g>\n<!-- node5 -->\n<g id=\"node6\" class=\"node\">\n<title>node5</title>\n<ellipse fill=\"none\" stroke=\"black\" cx=\"186\" cy=\"-61.2\" rx=\"18\" ry=\"18\"/>\n<text text-anchor=\"middle\" x=\"186\" y=\"-57.5\" font-family=\"Times,serif\" font-size=\"14.00\">+</text>\n</g>\n<!-- node6&#45;&#45;node5 -->\n<g id=\"edge5\" class=\"edge\">\n<title>node6--node5</title>\n<path fill=\"none\" stroke=\"black\" d=\"M134.05,-94.6C145.05,-87.53 159.83,-78.02 170.81,-70.96\"/>\n</g>\n<!-- node3 -->\n<g id=\"node5\" class=\"node\">\n<title>node3</title>\n<polygon fill=\"none\" stroke=\"black\" points=\"170.4,-36 134.4,-36 134.4,0 170.4,0 170.4,-36\"/>\n<text text-anchor=\"middle\" x=\"152.4\" y=\"-14.3\" font-family=\"Times,serif\" font-size=\"14.00\">c</text>\n</g>\n<!-- node5&#45;&#45;node3 -->\n<g id=\"edge6\" class=\"edge\">\n<title>node5--node3</title>\n<path fill=\"none\" stroke=\"black\" d=\"M174.62,-46.57C172.04,-43.25 169.25,-39.67 166.56,-36.21\"/>\n</g>\n<!-- node4 -->\n<g id=\"node7\" class=\"node\">\n<title>node4</title>\n<polygon fill=\"none\" stroke=\"black\" points=\"237.6,-36 201.6,-36 201.6,0 237.6,0 237.6,-36\"/>\n<text text-anchor=\"middle\" x=\"219.6\" y=\"-14.3\" font-family=\"Times,serif\" font-size=\"14.00\">d</text>\n</g>\n<!-- node5&#45;&#45;node4 -->\n<g id=\"edge7\" class=\"edge\">\n<title>node5--node4</title>\n<path fill=\"none\" stroke=\"black\" d=\"M197.38,-46.57C199.96,-43.25 202.75,-39.67 205.44,-36.21\"/>\n</g>\n<!-- node10 -->\n<g id=\"node8\" class=\"node\">\n<title>node10</title>\n<ellipse fill=\"none\" stroke=\"black\" cx=\"253.2\" cy=\"-147.6\" rx=\"18\" ry=\"18\"/>\n<text text-anchor=\"middle\" x=\"253.2\" y=\"-143.9\" font-family=\"Times,serif\" font-size=\"14.00\">/</text>\n</g>\n<!-- node10&#45;&#45;node6 -->\n<g id=\"edge1\" class=\"edge\">\n<title>node10--node6</title>\n<path fill=\"none\" stroke=\"black\" d=\"M235.9,-142.04C210.1,-133.75 161.8,-118.22 136.03,-109.94\"/>\n</g>\n<!-- node9 -->\n<g id=\"node10\" class=\"node\">\n<title>node9</title>\n<ellipse fill=\"none\" stroke=\"black\" cx=\"320.4\" cy=\"-104.4\" rx=\"18\" ry=\"18\"/>\n<text text-anchor=\"middle\" x=\"320.4\" y=\"-100.7\" font-family=\"Times,serif\" font-size=\"14.00\">*</text>\n</g>\n<!-- node10&#45;&#45;node9 -->\n<g id=\"edge8\" class=\"edge\">\n<title>node10--node9</title>\n<path fill=\"none\" stroke=\"black\" d=\"M268.45,-137.8C279.45,-130.73 294.23,-121.22 305.21,-114.16\"/>\n</g>\n<!-- node7 -->\n<g id=\"node9\" class=\"node\">\n<title>node7</title>\n<polygon fill=\"none\" stroke=\"black\" points=\"304.8,-79.2 268.8,-79.2 268.8,-43.2 304.8,-43.2 304.8,-79.2\"/>\n<text text-anchor=\"middle\" x=\"286.8\" y=\"-57.5\" font-family=\"Times,serif\" font-size=\"14.00\">a</text>\n</g>\n<!-- node9&#45;&#45;node7 -->\n<g id=\"edge9\" class=\"edge\">\n<title>node9--node7</title>\n<path fill=\"none\" stroke=\"black\" d=\"M309.02,-89.77C306.44,-86.45 303.65,-82.87 300.96,-79.41\"/>\n</g>\n<!-- node8 -->\n<g id=\"node11\" class=\"node\">\n<title>node8</title>\n<polygon fill=\"none\" stroke=\"black\" points=\"372,-79.2 336,-79.2 336,-43.2 372,-43.2 372,-79.2\"/>\n<text text-anchor=\"middle\" x=\"354\" y=\"-57.5\" font-family=\"Times,serif\" font-size=\"14.00\">d</text>\n</g>\n<!-- node9&#45;&#45;node8 -->\n<g id=\"edge10\" class=\"edge\">\n<title>node9--node8</title>\n<path fill=\"none\" stroke=\"black\" d=\"M331.78,-89.77C334.36,-86.45 337.15,-82.87 339.84,-79.41\"/>\n</g>\n</g>\n</svg>"
          },
          "metadata": {}
        }
      ]
    },
    {
      "cell_type": "code",
      "source": [
        "probar(\"(a*b-(c+d))/(a*d)\")"
      ],
      "metadata": {
        "colab": {
          "base_uri": "https://localhost:8080/"
        },
        "id": "difiF8Z3M9PL",
        "outputId": "09f9f57e-6fc6-4165-a199-7ec5cb4c4213"
      },
      "execution_count": null,
      "outputs": [
        {
          "output_type": "stream",
          "name": "stdout",
          "text": [
            "t1=a*b\n",
            "t2=c+d\n",
            "t1=t1-t2\n",
            "t4=a*d\n",
            "t1=t1/t4\n"
          ]
        }
      ]
    },
    {
      "cell_type": "code",
      "source": [
        "Arbol(\"(a*(b*(c*(d+e)+1)))\").dibujar()"
      ],
      "metadata": {
        "colab": {
          "base_uri": "https://localhost:8080/",
          "height": 368
        },
        "outputId": "70347c10-9466-455a-f9be-0ba3709b55cd",
        "id": "H7bv7Emt4xAE"
      },
      "execution_count": null,
      "outputs": [
        {
          "output_type": "display_data",
          "data": {
            "text/plain": [
              "<IPython.core.display.SVG object>"
            ],
            "image/svg+xml": "<svg xmlns=\"http://www.w3.org/2000/svg\" xmlns:xlink=\"http://www.w3.org/1999/xlink\" width=\"380pt\" height=\"260pt\" viewBox=\"0.00 0.00 380.00 260.00\">\n<g id=\"graph0\" class=\"graph\" transform=\"scale(1 1) rotate(0) translate(4 256)\">\n<title>Arbol</title>\n<polygon fill=\"white\" stroke=\"transparent\" points=\"-4,4 -4,-256 376,-256 376,4 -4,4\"/>\n<!-- node0 -->\n<g id=\"node1\" class=\"node\">\n<title>node0</title>\n<polygon fill=\"none\" stroke=\"black\" points=\"36,-208.8 0,-208.8 0,-172.8 36,-172.8 36,-208.8\"/>\n<text text-anchor=\"middle\" x=\"18\" y=\"-187.1\" font-family=\"Times,serif\" font-size=\"14.00\">a</text>\n</g>\n<!-- node10 -->\n<g id=\"node2\" class=\"node\">\n<title>node10</title>\n<ellipse fill=\"none\" stroke=\"black\" cx=\"51.6\" cy=\"-234\" rx=\"18\" ry=\"18\"/>\n<text text-anchor=\"middle\" x=\"51.6\" y=\"-230.3\" font-family=\"Times,serif\" font-size=\"14.00\">*</text>\n</g>\n<!-- node10&#45;&#45;node0 -->\n<g id=\"edge1\" class=\"edge\">\n<title>node10--node0</title>\n<path fill=\"none\" stroke=\"black\" d=\"M40.22,-219.37C37.64,-216.05 34.85,-212.47 32.16,-209.01\"/>\n</g>\n<!-- node9 -->\n<g id=\"node4\" class=\"node\">\n<title>node9</title>\n<ellipse fill=\"none\" stroke=\"black\" cx=\"118.8\" cy=\"-190.8\" rx=\"18\" ry=\"18\"/>\n<text text-anchor=\"middle\" x=\"118.8\" y=\"-187.1\" font-family=\"Times,serif\" font-size=\"14.00\">*</text>\n</g>\n<!-- node10&#45;&#45;node9 -->\n<g id=\"edge2\" class=\"edge\">\n<title>node10--node9</title>\n<path fill=\"none\" stroke=\"black\" d=\"M66.85,-224.2C77.85,-217.13 92.63,-207.62 103.61,-200.56\"/>\n</g>\n<!-- node1 -->\n<g id=\"node3\" class=\"node\">\n<title>node1</title>\n<polygon fill=\"none\" stroke=\"black\" points=\"103.2,-165.6 67.2,-165.6 67.2,-129.6 103.2,-129.6 103.2,-165.6\"/>\n<text text-anchor=\"middle\" x=\"85.2\" y=\"-143.9\" font-family=\"Times,serif\" font-size=\"14.00\">b</text>\n</g>\n<!-- node9&#45;&#45;node1 -->\n<g id=\"edge3\" class=\"edge\">\n<title>node9--node1</title>\n<path fill=\"none\" stroke=\"black\" d=\"M107.42,-176.17C104.84,-172.85 102.05,-169.27 99.36,-165.81\"/>\n</g>\n<!-- node8 -->\n<g id=\"node10\" class=\"node\">\n<title>node8</title>\n<ellipse fill=\"none\" stroke=\"black\" cx=\"320.4\" cy=\"-147.6\" rx=\"18\" ry=\"18\"/>\n<text text-anchor=\"middle\" x=\"320.4\" y=\"-143.9\" font-family=\"Times,serif\" font-size=\"14.00\">+</text>\n</g>\n<!-- node9&#45;&#45;node8 -->\n<g id=\"edge4\" class=\"edge\">\n<title>node9--node8</title>\n<path fill=\"none\" stroke=\"black\" d=\"M136.69,-186.97C174.95,-178.77 264.33,-159.62 302.55,-151.43\"/>\n</g>\n<!-- node2 -->\n<g id=\"node5\" class=\"node\">\n<title>node2</title>\n<polygon fill=\"none\" stroke=\"black\" points=\"170.4,-79.2 134.4,-79.2 134.4,-43.2 170.4,-43.2 170.4,-79.2\"/>\n<text text-anchor=\"middle\" x=\"152.4\" y=\"-57.5\" font-family=\"Times,serif\" font-size=\"14.00\">c</text>\n</g>\n<!-- node6 -->\n<g id=\"node6\" class=\"node\">\n<title>node6</title>\n<ellipse fill=\"none\" stroke=\"black\" cx=\"186\" cy=\"-104.4\" rx=\"18\" ry=\"18\"/>\n<text text-anchor=\"middle\" x=\"186\" y=\"-100.7\" font-family=\"Times,serif\" font-size=\"14.00\">*</text>\n</g>\n<!-- node6&#45;&#45;node2 -->\n<g id=\"edge6\" class=\"edge\">\n<title>node6--node2</title>\n<path fill=\"none\" stroke=\"black\" d=\"M174.62,-89.77C172.04,-86.45 169.25,-82.87 166.56,-79.41\"/>\n</g>\n<!-- node5 -->\n<g id=\"node8\" class=\"node\">\n<title>node5</title>\n<ellipse fill=\"none\" stroke=\"black\" cx=\"253.2\" cy=\"-61.2\" rx=\"18\" ry=\"18\"/>\n<text text-anchor=\"middle\" x=\"253.2\" y=\"-57.5\" font-family=\"Times,serif\" font-size=\"14.00\">+</text>\n</g>\n<!-- node6&#45;&#45;node5 -->\n<g id=\"edge7\" class=\"edge\">\n<title>node6--node5</title>\n<path fill=\"none\" stroke=\"black\" d=\"M201.25,-94.6C212.25,-87.53 227.03,-78.02 238.01,-70.96\"/>\n</g>\n<!-- node3 -->\n<g id=\"node7\" class=\"node\">\n<title>node3</title>\n<polygon fill=\"none\" stroke=\"black\" points=\"237.6,-36 201.6,-36 201.6,0 237.6,0 237.6,-36\"/>\n<text text-anchor=\"middle\" x=\"219.6\" y=\"-14.3\" font-family=\"Times,serif\" font-size=\"14.00\">d</text>\n</g>\n<!-- node5&#45;&#45;node3 -->\n<g id=\"edge8\" class=\"edge\">\n<title>node5--node3</title>\n<path fill=\"none\" stroke=\"black\" d=\"M241.82,-46.57C239.24,-43.25 236.45,-39.67 233.76,-36.21\"/>\n</g>\n<!-- node4 -->\n<g id=\"node9\" class=\"node\">\n<title>node4</title>\n<polygon fill=\"none\" stroke=\"black\" points=\"304.8,-36 268.8,-36 268.8,0 304.8,0 304.8,-36\"/>\n<text text-anchor=\"middle\" x=\"286.8\" y=\"-14.3\" font-family=\"Times,serif\" font-size=\"14.00\">e</text>\n</g>\n<!-- node5&#45;&#45;node4 -->\n<g id=\"edge9\" class=\"edge\">\n<title>node5--node4</title>\n<path fill=\"none\" stroke=\"black\" d=\"M264.58,-46.57C267.16,-43.25 269.95,-39.67 272.64,-36.21\"/>\n</g>\n<!-- node8&#45;&#45;node6 -->\n<g id=\"edge5\" class=\"edge\">\n<title>node8--node6</title>\n<path fill=\"none\" stroke=\"black\" d=\"M303.1,-142.04C277.3,-133.75 229,-118.22 203.23,-109.94\"/>\n</g>\n<!-- node7 -->\n<g id=\"node11\" class=\"node\">\n<title>node7</title>\n<polygon fill=\"none\" stroke=\"black\" points=\"372,-122.4 336,-122.4 336,-86.4 372,-86.4 372,-122.4\"/>\n<text text-anchor=\"middle\" x=\"354\" y=\"-100.7\" font-family=\"Times,serif\" font-size=\"14.00\">1</text>\n</g>\n<!-- node8&#45;&#45;node7 -->\n<g id=\"edge10\" class=\"edge\">\n<title>node8--node7</title>\n<path fill=\"none\" stroke=\"black\" d=\"M331.78,-132.97C334.36,-129.65 337.15,-126.07 339.84,-122.61\"/>\n</g>\n</g>\n</svg>"
          },
          "metadata": {}
        }
      ]
    },
    {
      "cell_type": "code",
      "source": [
        "probar(\"(a*(b*(c*(d+e)+1)))\")"
      ],
      "metadata": {
        "colab": {
          "base_uri": "https://localhost:8080/"
        },
        "id": "q6YawkPDOoN5",
        "outputId": "763bb1c6-2dea-4294-d2ac-cf683e8a359e"
      },
      "execution_count": null,
      "outputs": [
        {
          "output_type": "stream",
          "name": "stdout",
          "text": [
            "t1=d+e\n",
            "t1=c*t1\n",
            "t1=t1+1\n",
            "t1=b*t1\n",
            "t1=a*t1\n"
          ]
        }
      ]
    },
    {
      "cell_type": "code",
      "source": [
        "Arbol(\"a+b+c+d+e*(a-b-c-d-e)\").dibujar()"
      ],
      "metadata": {
        "colab": {
          "base_uri": "https://localhost:8080/",
          "height": 425
        },
        "outputId": "df9cd864-2c64-48ab-c96a-f5ecf8361c6d",
        "id": "AZZZQR0v43ke"
      },
      "execution_count": null,
      "outputs": [
        {
          "output_type": "display_data",
          "data": {
            "text/plain": [
              "<IPython.core.display.SVG object>"
            ],
            "image/svg+xml": "<svg xmlns=\"http://www.w3.org/2000/svg\" xmlns:xlink=\"http://www.w3.org/1999/xlink\" width=\"649pt\" height=\"303pt\" viewBox=\"0.00 0.00 648.80 303.20\">\n<g id=\"graph0\" class=\"graph\" transform=\"scale(1 1) rotate(0) translate(4 299.2)\">\n<title>Arbol</title>\n<polygon fill=\"white\" stroke=\"transparent\" points=\"-4,4 -4,-299.2 644.8,-299.2 644.8,4 -4,4\"/>\n<!-- node0 -->\n<g id=\"node1\" class=\"node\">\n<title>node0</title>\n<polygon fill=\"none\" stroke=\"black\" points=\"36,-122.4 0,-122.4 0,-86.4 36,-86.4 36,-122.4\"/>\n<text text-anchor=\"middle\" x=\"18\" y=\"-100.7\" font-family=\"Times,serif\" font-size=\"14.00\">a</text>\n</g>\n<!-- node2 -->\n<g id=\"node2\" class=\"node\">\n<title>node2</title>\n<ellipse fill=\"none\" stroke=\"black\" cx=\"51.6\" cy=\"-147.6\" rx=\"18\" ry=\"18\"/>\n<text text-anchor=\"middle\" x=\"51.6\" y=\"-143.9\" font-family=\"Times,serif\" font-size=\"14.00\">+</text>\n</g>\n<!-- node2&#45;&#45;node0 -->\n<g id=\"edge4\" class=\"edge\">\n<title>node2--node0</title>\n<path fill=\"none\" stroke=\"black\" d=\"M40.22,-132.97C37.64,-129.65 34.85,-126.07 32.16,-122.61\"/>\n</g>\n<!-- node1 -->\n<g id=\"node3\" class=\"node\">\n<title>node1</title>\n<polygon fill=\"none\" stroke=\"black\" points=\"103.2,-122.4 67.2,-122.4 67.2,-86.4 103.2,-86.4 103.2,-122.4\"/>\n<text text-anchor=\"middle\" x=\"85.2\" y=\"-100.7\" font-family=\"Times,serif\" font-size=\"14.00\">b</text>\n</g>\n<!-- node2&#45;&#45;node1 -->\n<g id=\"edge5\" class=\"edge\">\n<title>node2--node1</title>\n<path fill=\"none\" stroke=\"black\" d=\"M62.98,-132.97C65.56,-129.65 68.35,-126.07 71.04,-122.61\"/>\n</g>\n<!-- node4 -->\n<g id=\"node4\" class=\"node\">\n<title>node4</title>\n<ellipse fill=\"none\" stroke=\"black\" cx=\"118.8\" cy=\"-190.8\" rx=\"18\" ry=\"18\"/>\n<text text-anchor=\"middle\" x=\"118.8\" y=\"-187.1\" font-family=\"Times,serif\" font-size=\"14.00\">+</text>\n</g>\n<!-- node4&#45;&#45;node2 -->\n<g id=\"edge3\" class=\"edge\">\n<title>node4--node2</title>\n<path fill=\"none\" stroke=\"black\" d=\"M103.55,-181C92.55,-173.93 77.77,-164.42 66.79,-157.36\"/>\n</g>\n<!-- node3 -->\n<g id=\"node5\" class=\"node\">\n<title>node3</title>\n<polygon fill=\"none\" stroke=\"black\" points=\"170.4,-165.6 134.4,-165.6 134.4,-129.6 170.4,-129.6 170.4,-165.6\"/>\n<text text-anchor=\"middle\" x=\"152.4\" y=\"-143.9\" font-family=\"Times,serif\" font-size=\"14.00\">c</text>\n</g>\n<!-- node4&#45;&#45;node3 -->\n<g id=\"edge6\" class=\"edge\">\n<title>node4--node3</title>\n<path fill=\"none\" stroke=\"black\" d=\"M130.18,-176.17C132.76,-172.85 135.55,-169.27 138.24,-165.81\"/>\n</g>\n<!-- node6 -->\n<g id=\"node6\" class=\"node\">\n<title>node6</title>\n<ellipse fill=\"none\" stroke=\"black\" cx=\"186\" cy=\"-234\" rx=\"18\" ry=\"18\"/>\n<text text-anchor=\"middle\" x=\"186\" y=\"-230.3\" font-family=\"Times,serif\" font-size=\"14.00\">+</text>\n</g>\n<!-- node6&#45;&#45;node4 -->\n<g id=\"edge2\" class=\"edge\">\n<title>node6--node4</title>\n<path fill=\"none\" stroke=\"black\" d=\"M170.75,-224.2C159.75,-217.13 144.97,-207.62 133.99,-200.56\"/>\n</g>\n<!-- node5 -->\n<g id=\"node7\" class=\"node\">\n<title>node5</title>\n<polygon fill=\"none\" stroke=\"black\" points=\"237.6,-208.8 201.6,-208.8 201.6,-172.8 237.6,-172.8 237.6,-208.8\"/>\n<text text-anchor=\"middle\" x=\"219.6\" y=\"-187.1\" font-family=\"Times,serif\" font-size=\"14.00\">d</text>\n</g>\n<!-- node6&#45;&#45;node5 -->\n<g id=\"edge7\" class=\"edge\">\n<title>node6--node5</title>\n<path fill=\"none\" stroke=\"black\" d=\"M197.38,-219.37C199.96,-216.05 202.75,-212.47 205.44,-209.01\"/>\n</g>\n<!-- node18 -->\n<g id=\"node8\" class=\"node\">\n<title>node18</title>\n<ellipse fill=\"none\" stroke=\"black\" cx=\"253.2\" cy=\"-277.2\" rx=\"18\" ry=\"18\"/>\n<text text-anchor=\"middle\" x=\"253.2\" y=\"-273.5\" font-family=\"Times,serif\" font-size=\"14.00\">+</text>\n</g>\n<!-- node18&#45;&#45;node6 -->\n<g id=\"edge1\" class=\"edge\">\n<title>node18--node6</title>\n<path fill=\"none\" stroke=\"black\" d=\"M237.95,-267.4C226.95,-260.33 212.17,-250.82 201.19,-243.76\"/>\n</g>\n<!-- node17 -->\n<g id=\"node10\" class=\"node\">\n<title>node17</title>\n<ellipse fill=\"none\" stroke=\"black\" cx=\"320.4\" cy=\"-234\" rx=\"18\" ry=\"18\"/>\n<text text-anchor=\"middle\" x=\"320.4\" y=\"-230.3\" font-family=\"Times,serif\" font-size=\"14.00\">*</text>\n</g>\n<!-- node18&#45;&#45;node17 -->\n<g id=\"edge8\" class=\"edge\">\n<title>node18--node17</title>\n<path fill=\"none\" stroke=\"black\" d=\"M268.45,-267.4C279.45,-260.33 294.23,-250.82 305.21,-243.76\"/>\n</g>\n<!-- node7 -->\n<g id=\"node9\" class=\"node\">\n<title>node7</title>\n<polygon fill=\"none\" stroke=\"black\" points=\"304.8,-208.8 268.8,-208.8 268.8,-172.8 304.8,-172.8 304.8,-208.8\"/>\n<text text-anchor=\"middle\" x=\"286.8\" y=\"-187.1\" font-family=\"Times,serif\" font-size=\"14.00\">e</text>\n</g>\n<!-- node17&#45;&#45;node7 -->\n<g id=\"edge9\" class=\"edge\">\n<title>node17--node7</title>\n<path fill=\"none\" stroke=\"black\" d=\"M309.02,-219.37C306.44,-216.05 303.65,-212.47 300.96,-209.01\"/>\n</g>\n<!-- node16 -->\n<g id=\"node18\" class=\"node\">\n<title>node16</title>\n<ellipse fill=\"none\" stroke=\"black\" cx=\"589.2\" cy=\"-190.8\" rx=\"18\" ry=\"18\"/>\n<text text-anchor=\"middle\" x=\"589.2\" y=\"-187.1\" font-family=\"Times,serif\" font-size=\"14.00\">-</text>\n</g>\n<!-- node17&#45;&#45;node16 -->\n<g id=\"edge10\" class=\"edge\">\n<title>node17--node16</title>\n<path fill=\"none\" stroke=\"black\" d=\"M338.45,-231.1C387.42,-223.23 522.35,-201.54 571.22,-193.69\"/>\n</g>\n<!-- node8 -->\n<g id=\"node11\" class=\"node\">\n<title>node8</title>\n<polygon fill=\"none\" stroke=\"black\" points=\"372,-36 336,-36 336,0 372,0 372,-36\"/>\n<text text-anchor=\"middle\" x=\"354\" y=\"-14.3\" font-family=\"Times,serif\" font-size=\"14.00\">a</text>\n</g>\n<!-- node10 -->\n<g id=\"node12\" class=\"node\">\n<title>node10</title>\n<ellipse fill=\"none\" stroke=\"black\" cx=\"387.6\" cy=\"-61.2\" rx=\"18\" ry=\"18\"/>\n<text text-anchor=\"middle\" x=\"387.6\" y=\"-57.5\" font-family=\"Times,serif\" font-size=\"14.00\">-</text>\n</g>\n<!-- node10&#45;&#45;node8 -->\n<g id=\"edge14\" class=\"edge\">\n<title>node10--node8</title>\n<path fill=\"none\" stroke=\"black\" d=\"M376.22,-46.57C373.64,-43.25 370.85,-39.67 368.16,-36.21\"/>\n</g>\n<!-- node9 -->\n<g id=\"node13\" class=\"node\">\n<title>node9</title>\n<polygon fill=\"none\" stroke=\"black\" points=\"439.2,-36 403.2,-36 403.2,0 439.2,0 439.2,-36\"/>\n<text text-anchor=\"middle\" x=\"421.2\" y=\"-14.3\" font-family=\"Times,serif\" font-size=\"14.00\">b</text>\n</g>\n<!-- node10&#45;&#45;node9 -->\n<g id=\"edge15\" class=\"edge\">\n<title>node10--node9</title>\n<path fill=\"none\" stroke=\"black\" d=\"M398.98,-46.57C401.56,-43.25 404.35,-39.67 407.04,-36.21\"/>\n</g>\n<!-- node12 -->\n<g id=\"node14\" class=\"node\">\n<title>node12</title>\n<ellipse fill=\"none\" stroke=\"black\" cx=\"454.8\" cy=\"-104.4\" rx=\"18\" ry=\"18\"/>\n<text text-anchor=\"middle\" x=\"454.8\" y=\"-100.7\" font-family=\"Times,serif\" font-size=\"14.00\">-</text>\n</g>\n<!-- node12&#45;&#45;node10 -->\n<g id=\"edge13\" class=\"edge\">\n<title>node12--node10</title>\n<path fill=\"none\" stroke=\"black\" d=\"M439.55,-94.6C428.55,-87.53 413.77,-78.02 402.79,-70.96\"/>\n</g>\n<!-- node11 -->\n<g id=\"node15\" class=\"node\">\n<title>node11</title>\n<polygon fill=\"none\" stroke=\"black\" points=\"506.4,-79.2 470.4,-79.2 470.4,-43.2 506.4,-43.2 506.4,-79.2\"/>\n<text text-anchor=\"middle\" x=\"488.4\" y=\"-57.5\" font-family=\"Times,serif\" font-size=\"14.00\">c</text>\n</g>\n<!-- node12&#45;&#45;node11 -->\n<g id=\"edge16\" class=\"edge\">\n<title>node12--node11</title>\n<path fill=\"none\" stroke=\"black\" d=\"M466.18,-89.77C468.76,-86.45 471.55,-82.87 474.24,-79.41\"/>\n</g>\n<!-- node14 -->\n<g id=\"node16\" class=\"node\">\n<title>node14</title>\n<ellipse fill=\"none\" stroke=\"black\" cx=\"522\" cy=\"-147.6\" rx=\"18\" ry=\"18\"/>\n<text text-anchor=\"middle\" x=\"522\" y=\"-143.9\" font-family=\"Times,serif\" font-size=\"14.00\">-</text>\n</g>\n<!-- node14&#45;&#45;node12 -->\n<g id=\"edge12\" class=\"edge\">\n<title>node14--node12</title>\n<path fill=\"none\" stroke=\"black\" d=\"M506.75,-137.8C495.75,-130.73 480.97,-121.22 469.99,-114.16\"/>\n</g>\n<!-- node13 -->\n<g id=\"node17\" class=\"node\">\n<title>node13</title>\n<polygon fill=\"none\" stroke=\"black\" points=\"573.6,-122.4 537.6,-122.4 537.6,-86.4 573.6,-86.4 573.6,-122.4\"/>\n<text text-anchor=\"middle\" x=\"555.6\" y=\"-100.7\" font-family=\"Times,serif\" font-size=\"14.00\">d</text>\n</g>\n<!-- node14&#45;&#45;node13 -->\n<g id=\"edge17\" class=\"edge\">\n<title>node14--node13</title>\n<path fill=\"none\" stroke=\"black\" d=\"M533.38,-132.97C535.96,-129.65 538.75,-126.07 541.44,-122.61\"/>\n</g>\n<!-- node16&#45;&#45;node14 -->\n<g id=\"edge11\" class=\"edge\">\n<title>node16--node14</title>\n<path fill=\"none\" stroke=\"black\" d=\"M573.95,-181C562.95,-173.93 548.17,-164.42 537.19,-157.36\"/>\n</g>\n<!-- node15 -->\n<g id=\"node19\" class=\"node\">\n<title>node15</title>\n<polygon fill=\"none\" stroke=\"black\" points=\"640.8,-165.6 604.8,-165.6 604.8,-129.6 640.8,-129.6 640.8,-165.6\"/>\n<text text-anchor=\"middle\" x=\"622.8\" y=\"-143.9\" font-family=\"Times,serif\" font-size=\"14.00\">e</text>\n</g>\n<!-- node16&#45;&#45;node15 -->\n<g id=\"edge18\" class=\"edge\">\n<title>node16--node15</title>\n<path fill=\"none\" stroke=\"black\" d=\"M600.58,-176.17C603.16,-172.85 605.95,-169.27 608.64,-165.81\"/>\n</g>\n</g>\n</svg>"
          },
          "metadata": {}
        }
      ]
    },
    {
      "cell_type": "code",
      "source": [
        "probar(\"a+b+c+d+e*(a-b-c-d-e)\")"
      ],
      "metadata": {
        "colab": {
          "base_uri": "https://localhost:8080/"
        },
        "id": "gBPPj1v3PBQ6",
        "outputId": "951104db-2741-4eb3-b8fe-412e98ee7e2e"
      },
      "execution_count": null,
      "outputs": [
        {
          "output_type": "stream",
          "name": "stdout",
          "text": [
            "t1=a+b\n",
            "t1=t1+c\n",
            "t1=t1+d\n",
            "t4=a-b\n",
            "t4=t4-c\n",
            "t4=t4-d\n",
            "t4=t4-e\n",
            "t4=e*t4\n",
            "t1=t1+t4\n"
          ]
        }
      ]
    },
    {
      "cell_type": "markdown",
      "metadata": {
        "id": "bTEMKjsgF2oO"
      },
      "source": [
        "## Para los que quieran aprender más (opcional)"
      ]
    },
    {
      "cell_type": "markdown",
      "metadata": {
        "id": "Qo1CVQQLF2oP"
      },
      "source": [
        "Suponga que hay escasez de variables temporales, así que se le ha pedido que trate de reciclarlas lo más posible, y solo crear nuevas variables ``ti`` cuando sea estrictamente necesario. Por ejemplo, para la fórmula\n",
        "\n",
        "```\n",
        "((a+b)*c)+((d-e)/f)\n",
        "```\n",
        "\n",
        "si generamos código como lo hemos hecho en los ejemplos anteriores (código de la izquierda), se usan 5 variables temporales, pero el código de la derecha muestra que se puede evaluar usando solo 2:\n",
        "\n",
        "```\n",
        "t1=a+b               t1=a+b\n",
        "t2=t1+c              t1=t1*c\n",
        "t3=d-e               t2=d-e\n",
        "t4=t3/f              t2=t2/f\n",
        "t5=t2+t4             t1=t1+t2\n",
        "```\n",
        "\n",
        "Piense cómo se podría modificar su algoritmo para que use el mínimo posible de variables temporales.\n",
        "\n",
        "No es necesario que implemente nada, solo que considere cómo se podría hacer. Si se le ocurre algo interesante, puede escribirlo al final de su tarea, pero no es obligatorio ni influye en la nota. ¡La satisfacción de poder resolver el problema es su propia recompensa!"
      ]
    },
    {
      "cell_type": "markdown",
      "source": [
        "# Comentario:\n",
        "En mi solución se implementó esta funcionalidad y las variables se reciclan cada vez que es necesario, para ser sinceros, no estaba intentando eso a la hora de resolver el problema, así que no estoy totalmente seguro de como se logra, mi teoría es que funciona gracias a las variables globales."
      ],
      "metadata": {
        "id": "d0KPyw5ZPkkX"
      }
    }
  ]
}