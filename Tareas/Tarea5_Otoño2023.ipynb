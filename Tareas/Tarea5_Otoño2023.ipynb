{
  "nbformat": 4,
  "nbformat_minor": 0,
  "metadata": {
    "colab": {
      "provenance": []
    },
    "kernelspec": {
      "name": "python3",
      "display_name": "Python 3"
    },
    "language_info": {
      "name": "python"
    }
  },
  "cells": [
    {
      "cell_type": "markdown",
      "source": [
        "# CC3001 Otoño 2023 Tarea 5 [Marco Martínez S.]\n",
        "\n",
        "## ABBs posicionales\n",
        "\n",
        "### Profesores\n",
        "Sección 1 Iván Sipirán •\n",
        "Sección 2 Nelson Baloian •\n",
        "Sección 3 Patricio Poblete\n",
        "\n"
      ],
      "metadata": {
        "id": "deCM246B_yVT"
      }
    },
    {
      "cell_type": "code",
      "source": [
        "!pip install aed-utilities\n",
        "\n",
        "import aed_utilities as aed\n",
        "import numpy as np"
      ],
      "metadata": {
        "id": "TgslhNA3Pivn",
        "colab": {
          "base_uri": "https://localhost:8080/"
        },
        "outputId": "0f6f4776-03f5-4540-b269-09a62cb57066"
      },
      "execution_count": null,
      "outputs": [
        {
          "output_type": "stream",
          "name": "stdout",
          "text": [
            "Looking in indexes: https://pypi.org/simple, https://us-python.pkg.dev/colab-wheels/public/simple/\n",
            "Requirement already satisfied: aed-utilities in /usr/local/lib/python3.10/dist-packages (0.5.6)\n",
            "Requirement already satisfied: validators in /usr/local/lib/python3.10/dist-packages (from aed-utilities) (0.20.0)\n",
            "Requirement already satisfied: beautifulsoup4 in /usr/local/lib/python3.10/dist-packages (from aed-utilities) (4.11.2)\n",
            "Requirement already satisfied: soupsieve>1.2 in /usr/local/lib/python3.10/dist-packages (from beautifulsoup4->aed-utilities) (2.4.1)\n",
            "Requirement already satisfied: decorator>=3.4.0 in /usr/local/lib/python3.10/dist-packages (from validators->aed-utilities) (4.4.2)\n"
          ]
        }
      ]
    },
    {
      "cell_type": "markdown",
      "source": [
        "## Introducción\n",
        "\n",
        "Un *árbol de búsqueda binaria posicional* (*ABB posicional*) es un ABB modificado para que en cada nodo se agregue un campo adicional, que es un contador del número de llaves que hay en el subárbol que tiene a ese nodo como raíz, como se ve en el siguiente ejemplo:\n",
        "\n",
        "![Ejemplo ABB posicional](https://www.dcc.uchile.cl/ppoblete/cc3001/ABBposicional.png)\n",
        "\n",
        "Con esta información adicional, es posible, dado un valor de $k$, encontrar rápidamente el que sería el $k$-ésimo elemento, en un recorrido en inorden de izquierda a derecha ($k=1,\\ldots,n$, donde $n$ es el número de llaves del árbol). Por ser un ABB, esto es lo mismo que encontrar el $k$-ésimo menor elemento del conjunto.\n",
        "\n",
        "Llamaremos a esta operación ``find(k)``, la cual al ser ejecutada retorna un puntero al $k$-ésimo nodo interno, de izquierda a derecha. Si $k$ está fuera del rango $[1..n]$ se debe retornar ``None``.\n",
        "\n",
        "Para implementar esta operación, comenzamos en la raíz y miramos el contador del hijo izquierdo. Si éste es mayor o igual que $k$, entonces el $k$-ésimo debe estar en el subárbol izquierdo, y lo seguimos buscando ahí recursivamente. Si $k$ es exactamente 1 más que el contador del hijo izquierdo, el elemento buscado es la raíz, así que retornamos un puntero a él. Por último, si no ha sido ninguno de los casos anteriores, el $k$-ésimo debe estar en el subárbol derecho, así que seguimos buscando ahí recursivamente. Pero, dentro de ese subárbol, el elemento buscado ya no es el $k$-ésimo, hay que restarle al $k$ una cantidad (¿cuánto?). Por ejemplo, si estábamos originalmente buscando el elemento con $k=5$, el que sería la llave \"$62$\", una vez que vamos a buscarlo dentro del subárbol derecho, dentro de ese árbol es el elemento con $k=2$."
      ],
      "metadata": {
        "id": "WJAI-Lep7jKt"
      }
    },
    {
      "cell_type": "markdown",
      "source": [
        "## Objetivo de la tarea\n",
        "\n",
        "Su trabajo consiste en implementar las clases ``Arbol``, ``Nodoi`` y ``Nodoe`` y los métodos ``insert``, ``search`` y ``find`` en todos lugares en donde corresponda (no se pide implementar ``delete``). Luego debe ejecutar los casos de prueba que se indica.\n",
        "\n",
        "Note que la operación ``insert``, además de agregar la llave que se indica, debe modificar los contadores que sea necesario para que éstos reflejen correctamente los tamaños de los subárboles respectivos.\n",
        "\n",
        "Esta tarea se puede resolver con recursividad o sin recursividad. Usted debe decidir cuál enfoque usar.\n",
        "\n",
        "En el código que aparece a continuación usted debe agregar todo lo necesario para que la implementación esté completa.\n",
        "\n",
        "_Nota_: El campo \"``rep``\" contiene la representación visual del nodo, que va a aparecer cuando se dibuje."
      ],
      "metadata": {
        "id": "4KFJDmzuG0jF"
      }
    },
    {
      "cell_type": "code",
      "source": [
        "class Nodoi:\n",
        "    def __init__(self, izq, info, contador, der):\n",
        "        self.izq=izq\n",
        "        self.info=info\n",
        "        self.contador=contador\n",
        "        self.der=der\n",
        "        self.rep = str(info)+ ',' + str(contador)\n",
        "\n",
        "class Nodoe:\n",
        "    def __init__(self,contador):\n",
        "        self.contador=contador\n",
        "        self.rep=contador\n",
        "\n",
        "class Arbol:\n",
        "    def __init__(self,raiz=Nodoe(0)):\n",
        "        self.raiz=raiz\n",
        "\n",
        "    #Estructura del apunte un poco modificada.\n",
        "    def insert(self,x):\n",
        "        #Si es el primer elemento del arbol.\n",
        "        if isinstance(self.raiz, Nodoe):\n",
        "            self.raiz=Nodoi(Nodoe(0),x,1,Nodoe(0))\n",
        "            return\n",
        "\n",
        "        #Si no es el primer elemento del arbol.\n",
        "        nodos_revisados = []                      #Lista que nos ayudará con el contador.\n",
        "        p=self.raiz\n",
        "        while True:\n",
        "            assert x!=p.info\n",
        "            nodos_revisados.append(p)             #Añadimos el nodo a la lista.\n",
        "            if x<p.info:\n",
        "                if isinstance(p.izq, Nodoe):\n",
        "                    p.izq=Nodoi(Nodoe(0),x,1,Nodoe(0))\n",
        "                    for X in nodos_revisados:     #Modificamos los contadores a partir de los nodos en la lista.\n",
        "                      X.contador += 1\n",
        "                      X.rep = str(X.info) + \",\" + str(X.contador)     #Actualizamos el parametro rep, se encarga de actualizar el dibujo.\n",
        "                    return\n",
        "                p=p.izq\n",
        "\n",
        "            else: # x>p.info\n",
        "                if isinstance(p.der, Nodoe):\n",
        "                    p.der=Nodoi(Nodoe(0),x,1,Nodoe(0))\n",
        "                    for X in nodos_revisados:     #Modificamos los contadores a partir de los nodos en la lista.\n",
        "                      X.contador += 1\n",
        "                      X.rep = str(X.info) + \",\" + str(X.contador)     #Actualizamos el parametro rep, se encarga de actualizar el dibujo.\n",
        "                    return\n",
        "                p=p.der\n",
        "\n",
        "    #Estructura del apunte.\n",
        "    def search(self,x):\n",
        "        p=self.raiz\n",
        "        while not isinstance(p, Nodoe):\n",
        "            if x==p.info:\n",
        "                return p\n",
        "            p=p.izq if x<p.info else p.der\n",
        "        return None\n",
        "\n",
        "    def find(self,k):\n",
        "      return self.find_r(self.raiz,k)     #Hacemos una llamada recursiva de la función find\n",
        "\n",
        "    def find_r(self,nodo,k):\n",
        "      if nodo is None:        #Si el arbol está vacio.\n",
        "        return None\n",
        "\n",
        "      if isinstance(nodo,Nodoi):    #Si estamos en los nodos internos.\n",
        "        cuenta_izq = nodo.izq.contador if nodo.izq else 0\n",
        "        if k <= cuenta_izq:\n",
        "          return self.find_r(nodo.izq,k)\n",
        "        if k == cuenta_izq + 1:\n",
        "          return nodo\n",
        "        else:\n",
        "          return self.find_r(nodo.der,k-cuenta_izq-1)   #Para la busqueda en los subarboles derechos, el k-esimo será la diferencia entre el contador izq y 1, que corresponde a la raiz.\n",
        "\n",
        "      if isinstance(nodo,Nodoe):  #Si estamos en un nodo externo, retornar None.\n",
        "          return None\n",
        "\n",
        "    def dibujar(self):\n",
        "      btd = aed.BinaryTreeDrawer(fieldData=\"rep\", fieldLeft=\"izq\", fieldRight=\"der\", classNone=Nodoe)\n",
        "      btd.draw_tree(self, \"raiz\")\n",
        ""
      ],
      "metadata": {
        "id": "u9r5rdeVIh-M"
      },
      "execution_count": null,
      "outputs": []
    },
    {
      "cell_type": "markdown",
      "source": [
        "Las siguientes funciones son útiles para probar su implementación:"
      ],
      "metadata": {
        "id": "HCxFXP1lJqr5"
      }
    },
    {
      "cell_type": "code",
      "source": [
        "def test_search(a,x):\n",
        "    print(x, \"está\" if a.search(x) is not None else \"no está\")\n",
        "def test_find(a,k):\n",
        "    p=a.find(k)\n",
        "    print(\"La k-ésima llave para k=\",k, \"es\", p.info if p is not None else \"fuera de rango\")"
      ],
      "metadata": {
        "id": "KSZUXuskJxTz"
      },
      "execution_count": null,
      "outputs": []
    },
    {
      "cell_type": "markdown",
      "source": [
        "## Prueba: Construir un árbol por inserciones sucesivas"
      ],
      "metadata": {
        "id": "Z-gp17XpJ3lF"
      }
    },
    {
      "cell_type": "code",
      "source": [
        "a=Arbol()\n",
        "a.insert(40)\n",
        "a.insert(25)\n",
        "a.insert(32)\n",
        "a.insert(90)\n",
        "a.insert(62)\n",
        "a.insert(55)\n",
        "a.insert(70)\n",
        "a.dibujar()\n",
        "test_search(a,62)\n",
        "test_search(a,10)\n",
        "test_find(a,5)\n",
        "test_find(a,8)"
      ],
      "metadata": {
        "id": "vWSH6OGmKCec",
        "colab": {
          "base_uri": "https://localhost:8080/",
          "height": 380
        },
        "outputId": "077baf68-dd3a-4179-ea55-9f7d6b8880e8"
      },
      "execution_count": null,
      "outputs": [
        {
          "output_type": "display_data",
          "data": {
            "text/plain": [
              "<IPython.core.display.SVG object>"
            ],
            "image/svg+xml": "<svg xmlns=\"http://www.w3.org/2000/svg\" xmlns:xlink=\"http://www.w3.org/1999/xlink\" width=\"514pt\" height=\"217pt\" viewBox=\"0.00 0.00 514.40 216.80\">\n<g id=\"graph0\" class=\"graph\" transform=\"scale(1 1) rotate(0) translate(4 212.8)\">\n<title>Arbol</title>\n<polygon fill=\"white\" stroke=\"transparent\" points=\"-4,4 -4,-212.8 510.4,-212.8 510.4,4 -4,4\"/>\n<!-- node0 -->\n<g id=\"node1\" class=\"node\">\n<title>node0</title>\n<polygon fill=\"none\" stroke=\"black\" points=\"36,-122.4 0,-122.4 0,-86.4 36,-86.4 36,-122.4\"/>\n<text text-anchor=\"middle\" x=\"18\" y=\"-100.7\" font-family=\"Times,serif\" font-size=\"14.00\">0</text>\n</g>\n<!-- node4 -->\n<g id=\"node2\" class=\"node\">\n<title>node4</title>\n<ellipse fill=\"none\" stroke=\"black\" cx=\"51.6\" cy=\"-147.6\" rx=\"18\" ry=\"18\"/>\n<text text-anchor=\"middle\" x=\"51.6\" y=\"-143.9\" font-family=\"Times,serif\" font-size=\"14.00\">25,2</text>\n</g>\n<!-- node4&#45;&#45;node0 -->\n<g id=\"edge2\" class=\"edge\">\n<title>node4--node0</title>\n<path fill=\"none\" stroke=\"black\" d=\"M40.22,-132.97C37.64,-129.65 34.85,-126.07 32.16,-122.61\"/>\n</g>\n<!-- node3 -->\n<g id=\"node4\" class=\"node\">\n<title>node3</title>\n<ellipse fill=\"none\" stroke=\"black\" cx=\"118.8\" cy=\"-104.4\" rx=\"18\" ry=\"18\"/>\n<text text-anchor=\"middle\" x=\"118.8\" y=\"-100.7\" font-family=\"Times,serif\" font-size=\"14.00\">32,1</text>\n</g>\n<!-- node4&#45;&#45;node3 -->\n<g id=\"edge3\" class=\"edge\">\n<title>node4--node3</title>\n<path fill=\"none\" stroke=\"black\" d=\"M66.85,-137.8C77.85,-130.73 92.63,-121.22 103.61,-114.16\"/>\n</g>\n<!-- node1 -->\n<g id=\"node3\" class=\"node\">\n<title>node1</title>\n<polygon fill=\"none\" stroke=\"black\" points=\"103.2,-79.2 67.2,-79.2 67.2,-43.2 103.2,-43.2 103.2,-79.2\"/>\n<text text-anchor=\"middle\" x=\"85.2\" y=\"-57.5\" font-family=\"Times,serif\" font-size=\"14.00\">0</text>\n</g>\n<!-- node3&#45;&#45;node1 -->\n<g id=\"edge4\" class=\"edge\">\n<title>node3--node1</title>\n<path fill=\"none\" stroke=\"black\" d=\"M107.42,-89.77C104.84,-86.45 102.05,-82.87 99.36,-79.41\"/>\n</g>\n<!-- node2 -->\n<g id=\"node5\" class=\"node\">\n<title>node2</title>\n<polygon fill=\"none\" stroke=\"black\" points=\"170.4,-79.2 134.4,-79.2 134.4,-43.2 170.4,-43.2 170.4,-79.2\"/>\n<text text-anchor=\"middle\" x=\"152.4\" y=\"-57.5\" font-family=\"Times,serif\" font-size=\"14.00\">0</text>\n</g>\n<!-- node3&#45;&#45;node2 -->\n<g id=\"edge5\" class=\"edge\">\n<title>node3--node2</title>\n<path fill=\"none\" stroke=\"black\" d=\"M130.18,-89.77C132.76,-86.45 135.55,-82.87 138.24,-79.41\"/>\n</g>\n<!-- node14 -->\n<g id=\"node6\" class=\"node\">\n<title>node14</title>\n<ellipse fill=\"none\" stroke=\"black\" cx=\"186\" cy=\"-190.8\" rx=\"18\" ry=\"18\"/>\n<text text-anchor=\"middle\" x=\"186\" y=\"-187.1\" font-family=\"Times,serif\" font-size=\"14.00\">40,7</text>\n</g>\n<!-- node14&#45;&#45;node4 -->\n<g id=\"edge1\" class=\"edge\">\n<title>node14--node4</title>\n<path fill=\"none\" stroke=\"black\" d=\"M168.7,-185.24C142.9,-176.95 94.6,-161.42 68.83,-153.14\"/>\n</g>\n<!-- node13 -->\n<g id=\"node14\" class=\"node\">\n<title>node13</title>\n<ellipse fill=\"none\" stroke=\"black\" cx=\"454.8\" cy=\"-147.6\" rx=\"18\" ry=\"18\"/>\n<text text-anchor=\"middle\" x=\"454.8\" y=\"-143.9\" font-family=\"Times,serif\" font-size=\"14.00\">90,4</text>\n</g>\n<!-- node14&#45;&#45;node13 -->\n<g id=\"edge6\" class=\"edge\">\n<title>node14--node13</title>\n<path fill=\"none\" stroke=\"black\" d=\"M204.05,-187.9C253.02,-180.03 387.95,-158.34 436.82,-150.49\"/>\n</g>\n<!-- node5 -->\n<g id=\"node7\" class=\"node\">\n<title>node5</title>\n<polygon fill=\"none\" stroke=\"black\" points=\"237.6,-36 201.6,-36 201.6,0 237.6,0 237.6,-36\"/>\n<text text-anchor=\"middle\" x=\"219.6\" y=\"-14.3\" font-family=\"Times,serif\" font-size=\"14.00\">0</text>\n</g>\n<!-- node7 -->\n<g id=\"node8\" class=\"node\">\n<title>node7</title>\n<ellipse fill=\"none\" stroke=\"black\" cx=\"253.2\" cy=\"-61.2\" rx=\"18\" ry=\"18\"/>\n<text text-anchor=\"middle\" x=\"253.2\" y=\"-57.5\" font-family=\"Times,serif\" font-size=\"14.00\">55,1</text>\n</g>\n<!-- node7&#45;&#45;node5 -->\n<g id=\"edge9\" class=\"edge\">\n<title>node7--node5</title>\n<path fill=\"none\" stroke=\"black\" d=\"M241.82,-46.57C239.24,-43.25 236.45,-39.67 233.76,-36.21\"/>\n</g>\n<!-- node6 -->\n<g id=\"node9\" class=\"node\">\n<title>node6</title>\n<polygon fill=\"none\" stroke=\"black\" points=\"304.8,-36 268.8,-36 268.8,0 304.8,0 304.8,-36\"/>\n<text text-anchor=\"middle\" x=\"286.8\" y=\"-14.3\" font-family=\"Times,serif\" font-size=\"14.00\">0</text>\n</g>\n<!-- node7&#45;&#45;node6 -->\n<g id=\"edge10\" class=\"edge\">\n<title>node7--node6</title>\n<path fill=\"none\" stroke=\"black\" d=\"M264.58,-46.57C267.16,-43.25 269.95,-39.67 272.64,-36.21\"/>\n</g>\n<!-- node11 -->\n<g id=\"node10\" class=\"node\">\n<title>node11</title>\n<ellipse fill=\"none\" stroke=\"black\" cx=\"320.4\" cy=\"-104.4\" rx=\"18\" ry=\"18\"/>\n<text text-anchor=\"middle\" x=\"320.4\" y=\"-100.7\" font-family=\"Times,serif\" font-size=\"14.00\">62,3</text>\n</g>\n<!-- node11&#45;&#45;node7 -->\n<g id=\"edge8\" class=\"edge\">\n<title>node11--node7</title>\n<path fill=\"none\" stroke=\"black\" d=\"M305.15,-94.6C294.15,-87.53 279.37,-78.02 268.39,-70.96\"/>\n</g>\n<!-- node10 -->\n<g id=\"node12\" class=\"node\">\n<title>node10</title>\n<ellipse fill=\"none\" stroke=\"black\" cx=\"387.6\" cy=\"-61.2\" rx=\"18\" ry=\"18\"/>\n<text text-anchor=\"middle\" x=\"387.6\" y=\"-57.5\" font-family=\"Times,serif\" font-size=\"14.00\">70,1</text>\n</g>\n<!-- node11&#45;&#45;node10 -->\n<g id=\"edge11\" class=\"edge\">\n<title>node11--node10</title>\n<path fill=\"none\" stroke=\"black\" d=\"M335.65,-94.6C346.65,-87.53 361.43,-78.02 372.41,-70.96\"/>\n</g>\n<!-- node8 -->\n<g id=\"node11\" class=\"node\">\n<title>node8</title>\n<polygon fill=\"none\" stroke=\"black\" points=\"372,-36 336,-36 336,0 372,0 372,-36\"/>\n<text text-anchor=\"middle\" x=\"354\" y=\"-14.3\" font-family=\"Times,serif\" font-size=\"14.00\">0</text>\n</g>\n<!-- node10&#45;&#45;node8 -->\n<g id=\"edge12\" class=\"edge\">\n<title>node10--node8</title>\n<path fill=\"none\" stroke=\"black\" d=\"M376.22,-46.57C373.64,-43.25 370.85,-39.67 368.16,-36.21\"/>\n</g>\n<!-- node9 -->\n<g id=\"node13\" class=\"node\">\n<title>node9</title>\n<polygon fill=\"none\" stroke=\"black\" points=\"439.2,-36 403.2,-36 403.2,0 439.2,0 439.2,-36\"/>\n<text text-anchor=\"middle\" x=\"421.2\" y=\"-14.3\" font-family=\"Times,serif\" font-size=\"14.00\">0</text>\n</g>\n<!-- node10&#45;&#45;node9 -->\n<g id=\"edge13\" class=\"edge\">\n<title>node10--node9</title>\n<path fill=\"none\" stroke=\"black\" d=\"M398.98,-46.57C401.56,-43.25 404.35,-39.67 407.04,-36.21\"/>\n</g>\n<!-- node13&#45;&#45;node11 -->\n<g id=\"edge7\" class=\"edge\">\n<title>node13--node11</title>\n<path fill=\"none\" stroke=\"black\" d=\"M437.5,-142.04C411.7,-133.75 363.4,-118.22 337.63,-109.94\"/>\n</g>\n<!-- node12 -->\n<g id=\"node15\" class=\"node\">\n<title>node12</title>\n<polygon fill=\"none\" stroke=\"black\" points=\"506.4,-122.4 470.4,-122.4 470.4,-86.4 506.4,-86.4 506.4,-122.4\"/>\n<text text-anchor=\"middle\" x=\"488.4\" y=\"-100.7\" font-family=\"Times,serif\" font-size=\"14.00\">0</text>\n</g>\n<!-- node13&#45;&#45;node12 -->\n<g id=\"edge14\" class=\"edge\">\n<title>node13--node12</title>\n<path fill=\"none\" stroke=\"black\" d=\"M466.18,-132.97C468.76,-129.65 471.55,-126.07 474.24,-122.61\"/>\n</g>\n</g>\n</svg>"
          },
          "metadata": {}
        },
        {
          "output_type": "stream",
          "name": "stdout",
          "text": [
            "62 está\n",
            "10 no está\n",
            "La k-ésima llave para k= 5 es 62\n",
            "La k-ésima llave para k= 8 es fuera de rango\n"
          ]
        }
      ]
    },
    {
      "cell_type": "markdown",
      "source": [
        "## ¿Qué hay que entregar?\n",
        "\n",
        "Usted debe crear una copia de este documento (del menú seleccionar \"Archivo\" o \"File\" y de ahi la opción \"guardar copia en Drive\" o \"save a copy in Drive\"). Este nuevo documento (notebook de Colab) es el que debe modificar para luego compartirlo con la opción \"Cualquier usuario de internet con este enlace puede ver esto\" (o “Anyone on the internet with this link can view”). Esta opción se encuentra disponible en la parte superior derecha de su notebook, en el botón \"Compartir\" (o \"Share\"). Una vez que tenga disponible el enlace, colocarlo en la descripción de la entrega de su tarea. No olvide colocar su nombre dentro del notebook."
      ],
      "metadata": {
        "id": "kTFnyLnlwc-E"
      }
    }
  ]
}