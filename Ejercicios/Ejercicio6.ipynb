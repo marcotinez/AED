{
  "nbformat": 4,
  "nbformat_minor": 0,
  "metadata": {
    "colab": {
      "provenance": []
    },
    "kernelspec": {
      "name": "python3",
      "display_name": "Python 3"
    },
    "language_info": {
      "name": "python"
    }
  },
  "cells": [
    {
      "cell_type": "markdown",
      "metadata": {
        "id": "AombkVoMmaaz"
      },
      "source": [
        "### Ejercicio 4.5 - Marco Martínez S. 21.003.570-2\n",
        "\n",
        "Suponga que los campos ``info`` de los nodos externos de un árbol contienen solo números y escriba una función que pueda invocarse como ``formula.evaluar()``, que al ser ejecutada entregue el valor numérico  de la fórmula representada por el árbol. Modifique a continuación la definición de las clases ``Arbol``, ``Nodoi`` y ``Nodoe`` para que incluyan la nueva función ``evaluar()``. Note que tiene que implementar la función ``evaluar()`` en las tres clases."
      ]
    },
    {
      "cell_type": "code",
      "execution_count": null,
      "metadata": {
        "id": "ZU0ektMrmaaz"
      },
      "outputs": [],
      "source": [
        "class Nodoi:\n",
        "    def __init__(self, izq, info, der):\n",
        "        self.izq=izq\n",
        "        self.info=info\n",
        "        self.der=der\n",
        "    \n",
        "    def evaluar(self):\n",
        "      if self.info == '+':\n",
        "        return self.izq.evaluar() + self.der.evaluar()\n",
        "      elif self.info == '-':\n",
        "        return self.izq.evaluar() - self.der.evaluar()\n",
        "      elif self.info == '*':\n",
        "        return self.izq.evaluar() * self.der.evaluar()\n",
        "      elif self.info == '/':\n",
        "        return self.izq.evaluar() / self.der.evaluar()\n",
        "      else:\n",
        "        return 0\n",
        "   \n",
        "class Nodoe:\n",
        "    def __init__(self, info=\"\"):\n",
        "        self.info=info\n",
        "        \n",
        "    def evaluar(self):\n",
        "        return self.info\n",
        "    \n",
        "class Arbol:\n",
        "    def __init__(self,raiz=Nodoe()):\n",
        "        self.raiz=raiz\n",
        "    \n",
        "    def evaluar(self):\n",
        "        if self.raiz is None:\n",
        "          return 0\n",
        "        else:\n",
        "          return self.raiz.evaluar()"
      ]
    },
    {
      "cell_type": "markdown",
      "metadata": {
        "id": "KSlCy-87maaz"
      },
      "source": [
        "Pruébela a continuación:"
      ]
    },
    {
      "cell_type": "code",
      "execution_count": null,
      "metadata": {
        "id": "GG1_Vzacmaa0",
        "colab": {
          "base_uri": "https://localhost:8080/"
        },
        "outputId": "c0455e8b-580f-4b28-817b-6dab710fc545"
      },
      "outputs": [
        {
          "output_type": "stream",
          "name": "stdout",
          "text": [
            "35.0\n"
          ]
        }
      ],
      "source": [
        "formula= Arbol(\n",
        "            Nodoi(\n",
        "                Nodoi(Nodoe(5),\"+\",Nodoe(2)),\n",
        "                \"*\",\n",
        "                Nodoi(\n",
        "                    Nodoe(8),\n",
        "                    \"-\",\n",
        "                    Nodoi(Nodoe(9),\"/\",Nodoe(3))\n",
        "                )\n",
        "            )\n",
        "        )\n",
        "print(formula.evaluar())"
      ]
    }
  ]
}