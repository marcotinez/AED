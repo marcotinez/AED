{
  "nbformat": 4,
  "nbformat_minor": 0,
  "metadata": {
    "colab": {
      "provenance": []
    },
    "kernelspec": {
      "name": "python3",
      "display_name": "Python 3"
    },
    "language_info": {
      "name": "python"
    }
  },
  "cells": [
    {
      "cell_type": "markdown",
      "metadata": {
        "id": "5dAhV1ztsuvX"
      },
      "source": [
        "### Ejercicio 6.4 (Inserciones en una tabla de hashing con Linear Probing)\n",
        "\n",
        "Suponga que se tiene una tabla de hashing con Linear Probing, de tamaño 10, inicialmente vacía, con la función de hashing $h(x) = x \\bmod 10$ (por ejemplo, $h(64)=4$). Muestre en la siguiente tabla el resultado de insertar (a mano) la siguiente secuencia de llaves:\n",
        "\n",
        "```\n",
        "34, 59, 45, 27, 14, 22, 75, 25\n",
        "```"
      ]
    },
    {
      "cell_type": "markdown",
      "metadata": {
        "id": "72NWYdkCsuvX"
      },
      "source": [
        "![lista.png](data:image/png;base64,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)\n",
        "\n",
        "Utilizaremos la siguiente función para ver si su respuesta está correcta:"
      ]
    },
    {
      "cell_type": "code",
      "execution_count": 5,
      "metadata": {
        "collapsed": true,
        "id": "O_Rw6EJMsuvX"
      },
      "outputs": [],
      "source": [
        "def chequea_tabla(lista):\n",
        "    h=0\n",
        "    for x in lista:\n",
        "        h = (h*100+x) % 100000007\n",
        "    print(\"OK\" if h==60375958 else \"Error\")"
      ]
    },
    {
      "cell_type": "markdown",
      "metadata": {
        "id": "NdLznQkIsuvX"
      },
      "source": [
        "En el siguiente recuadro reemplace la lista de ceros por la lista de los elementos resultantes en la tabla. Si un casillero queda vacío, escriba un cero."
      ]
    },
    {
      "cell_type": "code",
      "execution_count": 6,
      "metadata": {
        "collapsed": true,
        "id": "hLSJ3H-osuvX",
        "colab": {
          "base_uri": "https://localhost:8080/"
        },
        "outputId": "98993331-f1e4-45b7-82b9-a95743da62e4"
      },
      "outputs": [
        {
          "output_type": "stream",
          "name": "stdout",
          "text": [
            "OK\n"
          ]
        }
      ],
      "source": [
        "chequea_tabla([25,0,22,0,34,45,14,27,75,59])"
      ]
    }
  ]
}